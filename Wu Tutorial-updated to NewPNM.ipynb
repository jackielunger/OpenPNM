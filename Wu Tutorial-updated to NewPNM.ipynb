{
 "metadata": {
  "name": ""
 },
 "nbformat": 3,
 "nbformat_minor": 0,
 "worksheets": [
  {
   "cells": [
    {
     "cell_type": "heading",
     "level": 1,
     "metadata": {},
     "source": [
      "Using OpenPNM to recreate Wu's \"Determination of oxygen effective diffusivity in porous gas diffusion layer using a three-dimensional pore network model\""
     ]
    },
    {
     "cell_type": "markdown",
     "metadata": {},
     "source": [
      "We are going to use OpenPNM to regenerate data found by Wu et al in the paper \"Determination of oxygen effective diffusivity in porous gas diffusion layer using a three-dimensional pore network model\".  This will serve as a introduction to OpenPNM, and instill an ease with the structure and use of OpenPNM for future simulations.  "
     ]
    },
    {
     "cell_type": "heading",
     "level": 2,
     "metadata": {},
     "source": [
      "Getting started"
     ]
    },
    {
     "cell_type": "markdown",
     "metadata": {},
     "source": [
      "It is assumed that the reader has already downloaded or cloned the most recent version of OpenPNM available through github at https://github.com/PMEAL/OpenPNM.  To make importing OpenPNM as simple as possible, we can add OpenPNM to our pythonpath.  This can be done using the following line of code typed into the command line (replacing /path/to/OpenPNM with the proper path where OpenPNM is saved):  "
     ]
    },
    {
     "cell_type": "code",
     "collapsed": false,
     "input": [
      "export PYTHONPATH=$PYTHONPATH:/path/to/OpenPNM"
     ],
     "language": "python",
     "metadata": {},
     "outputs": []
    },
    {
     "cell_type": "markdown",
     "metadata": {},
     "source": [
      "Now that we have added OpenPNM to the python path, we can import it.  We will also need matplotlib.pyplot if we wish to generate graphs of our data in IPython Notebook, and numpy if we wish to perform math operations on our data later (such as log())."
     ]
    },
    {
     "cell_type": "code",
     "collapsed": false,
     "input": [
      "cd OpenPNM"
     ],
     "language": "python",
     "metadata": {},
     "outputs": [
      {
       "output_type": "stream",
       "stream": "stdout",
       "text": [
        "/Users/Jackie/OpenPNM\n"
       ]
      }
     ],
     "prompt_number": 1
    },
    {
     "cell_type": "code",
     "collapsed": false,
     "input": [
      "import OpenPNM\n",
      "import matplotlib.pyplot as plt\n",
      "import numpy as np"
     ],
     "language": "python",
     "metadata": {},
     "outputs": [],
     "prompt_number": 2
    },
    {
     "cell_type": "heading",
     "level": 2,
     "metadata": {},
     "source": [
      "Generating the pore network and adding a geometry object"
     ]
    },
    {
     "cell_type": "markdown",
     "metadata": {},
     "source": [
      "The first step will be to create a pore network we wish to run simulations on.  To regenerate Wu's data, we need to create a pore network that is nxnx2n, where n can be 8, 10, 12, 14, 16, 18, or 20. Wu also specifies that the lattice parameter of the network should be 25e-6.  OpenPNM makes creating a pore network easy.  First, we select the desired network topology (in this case, cubic), then call the generate() method.  Note that divisions[ax,by,cz] supply the number of pores in each of the x, y, and z directions of the lattice.  "
     ]
    },
    {
     "cell_type": "code",
     "collapsed": false,
     "input": [
      "n = 8\n",
      "Lc = 25e-6\n",
      "\n",
      "pn = OpenPNM.Network.Cubic(name = 'Wu')\n",
      "\n",
      "#code to run if we want to set add_boundaries to be False\n",
      "pn.generate(divisions = [n,n,2*n], add_boundaries= False, lattice_spacing = [Lc])\n",
      "\n",
      "#code to run if we want to set add_boundaries to be True\n",
      "#pn.generate(divisions = [n,n,2*n], add_boundaries= True, lattice_spacing = [Lc])\n"
     ],
     "language": "python",
     "metadata": {},
     "outputs": [],
     "prompt_number": 3
    },
    {
     "cell_type": "markdown",
     "metadata": {},
     "source": [
      "OpenPNM makes it very easy to visualize the network we have generated through the \"Visualization\" methods.  We can create vtk files to be viewed using ParaView (downloadable at http://www.paraview.org/download/.  It is suggested that version 3.98 is downloaded instead of 4.1).  If we were able to visualize our pore network model it would appear like this:"
     ]
    },
    {
     "cell_type": "code",
     "collapsed": false,
     "input": [
      "from IPython.display import display\n",
      "from IPython.display import Image\n",
      "\n",
      "i = Image(url = 'http://i.imgur.com/ILg7ZdJ.png')\n",
      "display(i)"
     ],
     "language": "python",
     "metadata": {},
     "outputs": [
      {
       "html": [
        "<img src=\"http://i.imgur.com/ILg7ZdJ.png\"/>"
       ],
       "metadata": {},
       "output_type": "display_data",
       "text": [
        "<IPython.core.display.Image at 0x107ac6c18>"
       ]
      }
     ],
     "prompt_number": 18
    },
    {
     "cell_type": "markdown",
     "metadata": {},
     "source": [
      "Next, we must create a geometry object so that each pore and throat can be given properties.  For pores, this means diameter and volume, while for throats this means diameter, length, and volume.  We ensure that the geometry will be set for all locations of the network by sending all pore locations as a parameter.\n",
      "\n",
      "Afer setting up the geometry object we are ready to add methods to our geometry object for calculating pore and throat dimensional values.  After we add all the methods, we must remember to \"regenerate\" so that these values are calculated and stored.  Note that if we don't want the logger to show us its progress, we can add 'loglevel = 30' to the parameters of each function.\n",
      "\n",
      "The order in which we add each method is important, as the 'sphere' model for calculating pore volumes requires the diameters to be already known.  Similarly, throat lengths and diameters must be set before the throat volumes can be calculated."
     ]
    },
    {
     "cell_type": "code",
     "collapsed": false,
     "input": [
      "#code to run if boundaries was set to false\n",
      "geo = OpenPNM.Geometry.GenericGeometry(name = 'wu_geometry', network = pn)\n",
      "geo.set_locations(pores = pn.pores('all'), throats = 'all')\n",
      "\n",
      "#code to run if boundaries was set to True\n",
      "#pn.generate(divisions = [n,n,2*n], add_boundaries= True, lattice_spacing = [Lc], loglevel = 30)\n",
      "#geo = OpenPNM.Geometry.GenericGeometry(name = 'wu_geometry', network = pn)\n",
      "#geo.set_locations(pores = pn.pores('internal'), throats = 'all')\n",
      "#boun = pn.add_geometry(subclass='Boundary',name='boun')\n",
      "#boun.set_locations(pores=pn.pores('boundary'))\n",
      "\n",
      "low = .5e-6\n",
      "high = 9.5e-6\n",
      "\n",
      "geo.add_method(prop='pore_diameter',model='constant', value = 24e-6)\n",
      "geo.add_method(prop='pore_volume',model='sphere')\n",
      "geo.add_method(prop='throat_diameter', model='uniform_distribution', low = low, high = high)\n",
      "geo.add_method(prop='throat_length',model='straight')\n",
      "geo.add_method(prop='throat_volume',model='cylinder')\n",
      "\n",
      "pn.regenerate_geometries()"
     ],
     "language": "python",
     "metadata": {},
     "outputs": [],
     "prompt_number": 5
    },
    {
     "cell_type": "markdown",
     "metadata": {},
     "source": [
      "Now we can use methods in Tools to return information about our pores and throats.  Note that the printed throat diameters are between 1e-6 and 1.9e-5 (twice our chosen minimum and maximum radii), so we know that the uniform_distribution method is working correctly.  We used the 'straight' model for calculating throat lengths, which simply calculated this length based on the pore diameter and lattice parameter.  Because the lattice parameter is 25e-6 and our pore diameters are 24e-6, our throat lengths should all be 1e-6 which we can check by printing these values."
     ]
    },
    {
     "cell_type": "code",
     "collapsed": false,
     "input": [
      "throat_diameters = pn.get_throat_data(prop = 'diameter') #if you do not specificy locations, all locations are returned\n",
      "throat_lengths = pn.get_throat_data(prop = 'length')\n",
      "print(throat_diameters)\n",
      "print(throat_lengths)"
     ],
     "language": "python",
     "metadata": {},
     "outputs": [
      {
       "output_type": "stream",
       "stream": "stdout",
       "text": [
        "[  2.96018728e-06   2.00009434e-06   8.58354922e-06 ...,   9.33444649e-06\n",
        "   4.04860568e-06   1.21625510e-05]\n",
        "[  1.00000000e-06   1.00000000e-06   1.00000000e-06 ...,   1.00000000e-06\n",
        "   1.00000000e-06   1.00000000e-06]\n"
       ]
      }
     ],
     "prompt_number": 6
    },
    {
     "cell_type": "heading",
     "level": 2,
     "metadata": {},
     "source": [
      "Adding fluid objects and methods"
     ]
    },
    {
     "cell_type": "markdown",
     "metadata": {},
     "source": [
      "Next, we have to set up our fluids.  We could set up air and water as generic fluids and add methods to each, or we could use the air and water fluids that are already exisiting.  We will use the already existing fluids to make our lives easier.  Again, we will use the regenerate method to make sure that the values for the fluids are calculated and set using the methods chosen (which in this case are preset).  "
     ]
    },
    {
     "cell_type": "code",
     "collapsed": false,
     "input": [
      "air = OpenPNM.Fluids.Air(network = pn, name = 'air')\n",
      "water = OpenPNM.Fluids.Water(network = pn, name = 'water')\n",
      "pn.regenerate_fluids()"
     ],
     "language": "python",
     "metadata": {},
     "outputs": [],
     "prompt_number": 7
    },
    {
     "cell_type": "heading",
     "level": 2,
     "metadata": {},
     "source": [
      "Adding Physics objects and methods"
     ]
    },
    {
     "cell_type": "markdown",
     "metadata": {},
     "source": [
      "The next step will be to set up physics objects and add the proper methods.  However, Wu does not use the simple bulk_diffusion model we already have to calculate diffusive conductance.  The method we currently have calculates the diffusive conductance accross a conduit (half of one pore, the connecting throat, and half of the next pore) instead of just accross a throat.  We are assuming that Wu calculates the diffusive conductance simply accross a throat.    \n",
      "\n",
      "Before we add methods to our physics objects, we should write a method for calculating diffusive conductance that follows Wu's model.  This will not be encorporated into OpenPNM, but can still be used to calculate our diffusive_conductance.  We will call this bulk_diffusion_wu, and it will appear as follows:"
     ]
    },
    {
     "cell_type": "code",
     "collapsed": false,
     "input": [
      "import scipy as sp\n",
      "\n",
      "def bulk_diffusion_wu(physics,\n",
      "                      network,\n",
      "                      fluid,\n",
      "                      geometry,\n",
      "                      propname,\n",
      "                      diffusivity = 'diffusivity',\n",
      "                      molar_density = 'molar_density',\n",
      "                      throat_diameter = 'diameter',\n",
      "                      throat_length = 'length',\n",
      "                      pore_diameter = 'diameter',\n",
      "                      **params):\n",
      "    r\"\"\"\n",
      "        Calculate the diffusive conductance of throats in network (instead of a\n",
      "        conduit) based on the areas\n",
      "        \n",
      "        Parameters\n",
      "        ----------\n",
      "        network : OpenPNM Network Object\n",
      "        \n",
      "        fluid : OpenPNM Fluid Object\n",
      "        The fluid of interest\n",
      "        \n",
      "        Notes\n",
      "        -----\n",
      "        This function requires that all the necessary fluid properties already be\n",
      "        calculated.\n",
      "        \n",
      "        \"\"\"\n",
      "    #ct = fluid.get_data(prop='molar_density',throats='all',mode='interpolate')\n",
      "    #Interpolate pore values to throats\n",
      "    DABt = fluid.get_data(prop='diffusivity',throats='all',mode='interpolate')\n",
      "    #Find g for full throat\n",
      "    tdia = network.get_throat_data(prop=throat_diameter)\n",
      "    tlen = network.get_throat_data(prop=throat_length)\n",
      "    gt = (sp.pi*DABt*tdia**2)/(tlen*4)\n",
      "    value = gt[geometry.throats()]\n",
      "    try: \n",
      "        fluid['pore.occupancy']\n",
      "        connected_pores = network.find_connected_pores(fluid.throats())\n",
      "        s = []\n",
      "        for item in connected_pores:\n",
      "            s_item = False\n",
      "            for pore in item:\n",
      "                if(fluid.get_pore_data(prop = 'occupancy', locations = pore)):\n",
      "                    s_item = True\n",
      "            s.append(s_item)\n",
      "        \n",
      "        for x in range(len(value)):\n",
      "            value[x] = value[x] * s[x] + value[x]*(not s[x])/1e3\n",
      "    except: pass    \n",
      "    fluid.set_data(prop=propname,throats=geometry.throats(),data=value)"
     ],
     "language": "python",
     "metadata": {},
     "outputs": [],
     "prompt_number": 3
    },
    {
     "cell_type": "markdown",
     "metadata": {},
     "source": [
      "The code within the try statement is important for after invasion percolation is run and some pores and throats are occupied by invading fluid.  If both neighboring pores of a throat are filled with water, then the conductance in the throat must be set to a much smaller value.  \n",
      "\n",
      "Now we can set up our physics objects and add the methods with the desired models.  Then we need to \"regenerate\" to make sure these values are calculated.  Air's diffusive conductance is set a little differently, because we have written our own method that does not exist in OpenPNM.  Note that calling regenerate_physics() will not re-calculate air diffusive conductance."
     ]
    },
    {
     "cell_type": "code",
     "collapsed": false,
     "input": [
      "phys_water = OpenPNM.Physics.GenericPhysics(network=pn,fluid=water, geometry = geo, name='standard_water_physics')\n",
      "phys_air = OpenPNM.Physics.GenericPhysics(network=pn,fluid=air, geometry = geo, name='standard_air_physics')\n",
      "\n",
      "phys_water.add_method(prop='capillary_pressure', model='purcell', r_toroid=1e-5)\n",
      "phys_water.add_method(prop='hydraulic_conductance',model='hagen_poiseuille')\n",
      "phys_water.add_method(prop='diffusive_conductance', model='bulk_diffusion', shape = 'circular')\n",
      "phys_air.add_method(prop='hydraulic_conductance',model='hagen_poiseuille')\n",
      "\n",
      "bulk_diffusion_wu(physics = phys_air, network = pn, fluid = air, geometry = geo, propname = 'diffusive_conductance')\n",
      "pn.regenerate_physics()"
     ],
     "language": "python",
     "metadata": {},
     "outputs": [],
     "prompt_number": 9
    },
    {
     "cell_type": "heading",
     "level": 2,
     "metadata": {},
     "source": [
      "Running the invasion percolation algorithm"
     ]
    },
    {
     "cell_type": "markdown",
     "metadata": {},
     "source": [
      "Now we are ready to run invasion percolation.  We need to set up our parameters, namely inlets, outlets, and end_condition.  The end_condition parameter, 'breakthrough', specifies that invasion percolation will stop as soon as 1 of the outlet pores is filled.  If we specified 'total' instead, invasion percolation would proceed until all outlet pores are full.\n",
      "\n",
      "We will save a vtk file with the saved data so we can view what we've done.  To view this, you can open the file inside ParaView.  "
     ]
    },
    {
     "cell_type": "code",
     "collapsed": false,
     "input": [
      "inlets = pn.get_pore_indices(labels = ['bottom']) #can put in brackets so the whole bottom of the lattice is considered 1 inlet\n",
      "outlets = pn.get_pore_indices(labels = ['top'])\n",
      "end_condition = 'breakthrough'\n",
      "\n",
      "OP_1 = OpenPNM.Algorithms.InvasionPercolation(network = pn, name = 'OP_1',loglevel=30)\n",
      "OP_1.run(invading_fluid = water, defending_fluid = air, inlets = inlets, outlets = outlets, end_condition = end_condition)\n",
      "OP_1.update()\n",
      "#should be uncommented if want to run fickian diffusion on an air-filled lattice\n",
      "#OP_1.update(IPseq = 0)  \n",
      "\n",
      "vis = OpenPNM.Visualization.VTK()\n",
      "vis.write(filename = 'test.vtp', network=pn,fluids=[air,water])"
     ],
     "language": "python",
     "metadata": {},
     "outputs": [
      {
       "output_type": "stream",
       "stream": "stdout",
       "text": [
        "     IP algorithm at 0 % completion at 2 seconds\n",
        "     IP algorithm at 60 % completion at 2 seconds\n",
        "     IP algorithm at"
       ]
      },
      {
       "output_type": "stream",
       "stream": "stdout",
       "text": [
        " 80 % completion at 2 seconds\n"
       ]
      }
     ],
     "prompt_number": 10
    },
    {
     "cell_type": "markdown",
     "metadata": {},
     "source": [
      "If all has gone well, we should be able to watch the invasion percolation take place by opening our vtk file in ParaView.  After adding a threshold, we can watch an animation of the invasion that will appear as follows:"
     ]
    },
    {
     "cell_type": "code",
     "collapsed": false,
     "input": [
      "from IPython.display import YouTubeVideo\n",
      "display(YouTubeVideo('0iSuypRaT7A'))"
     ],
     "language": "python",
     "metadata": {},
     "outputs": [
      {
       "html": [
        "\n",
        "        <iframe\n",
        "            width=\"400\"\n",
        "            height=300\"\n",
        "            src=\"https://www.youtube.com/embed/0iSuypRaT7A\"\n",
        "            frameborder=\"0\"\n",
        "            allowfullscreen\n",
        "        ></iframe>\n",
        "        "
       ],
       "metadata": {},
       "output_type": "display_data",
       "text": [
        "<IPython.lib.display.YouTubeVideo at 0x1048b3358>"
       ]
      }
     ],
     "prompt_number": 11
    },
    {
     "cell_type": "heading",
     "level": 2,
     "metadata": {},
     "source": [
      "Running the Fickian Diffusion algorithm"
     ]
    },
    {
     "cell_type": "markdown",
     "metadata": {},
     "source": [
      "Next, we can set up our Fickian Diffusion algorithm.  Before we run it, we also need to set up our top and bottom boundary.  To continue following Wu's paper, we want to make the top boundary a plane 1/4 from the top, and the bottom boundary 1/4 from the bottom.  This way the Fickian Algorithm is only calculated on the center half.\n",
      "\n",
      "diffusive conductance needs to be recalculated between when invasion percolation is run and effective diffusivity is calculated.  OpenPNM has been written to take care of this without our intervention.  However, because we are using a method for calculating effective diffusivity that is not part of OpenPNM, we must remember to recalculate diffusive conductance ourselves."
     ]
    },
    {
     "cell_type": "code",
     "collapsed": false,
     "input": [
      "bulk_diffusion_wu(physics = phys_air, network = pn, fluid = air, geometry = geo, propname = 'diffusive_conductance')\n",
      "Fickian_alg = OpenPNM.Algorithms.FickianDiffusion(loglevel = 30, loggername = 'Fickian', name = 'fickian_alg', network = pn)\n",
      "\n",
      "A = pn._Nx**2\n",
      "\n",
      "z_dimension = int(pn.domain_size(dimension = 'height')/Lc) #number of pores in the z direction\n",
      "quarter_layer = z_dimension/4 #estimates which layer marks 1/4 up the lattice\n",
      "pore_number = int(quarter_layer*A) #gives the first pore in the layer 1/4 up the lattice\n",
      "\n",
      "bottom_boundary = list(range(pore_number, pore_number + A))\n",
      "top_boundary = list(range(pn.num_pores() - pore_number, pn.num_pores() - pore_number +A))\n",
      "\n",
      "pn.set_pore_info(label='bound1', locations = bottom_boundary)\n",
      "pn.set_pore_info(label='bound2', locations = top_boundary)"
     ],
     "language": "python",
     "metadata": {},
     "outputs": [],
     "prompt_number": 12
    },
    {
     "cell_type": "markdown",
     "metadata": {},
     "source": [
      "To check that our boundaries have been set properly, we can view the network in ParaView.  The images of the boundaries should appear as below:"
     ]
    },
    {
     "cell_type": "code",
     "collapsed": false,
     "input": [
      "#top boundary\n",
      "i = Image(url = 'http://i.imgur.com/RknaFjl.png')\n",
      "display(i)\n",
      "#bottom boundary\n",
      "g = Image(url = 'http://i.imgur.com/oxF407s.png')\n",
      "display(g)"
     ],
     "language": "python",
     "metadata": {},
     "outputs": [
      {
       "html": [
        "<img src=\"http://i.imgur.com/RknaFjl.png\"/>"
       ],
       "metadata": {},
       "output_type": "display_data",
       "text": [
        "<IPython.core.display.Image at 0x107c56828>"
       ]
      },
      {
       "html": [
        "<img src=\"http://i.imgur.com/oxF407s.png\"/>"
       ],
       "metadata": {},
       "output_type": "display_data",
       "text": [
        "<IPython.core.display.Image at 0x107c56a20>"
       ]
      }
     ],
     "prompt_number": 13
    },
    {
     "cell_type": "heading",
     "level": 2,
     "metadata": {},
     "source": [
      "Calculating effective diffusivity"
     ]
    },
    {
     "cell_type": "markdown",
     "metadata": {},
     "source": [
      "The next step will be to use the effective_diffusivity() method to calculate the effective diffusivity of the network after invasion is at completion.  Note that we do not need to run Fickian diffusion before we calculate effective diffusivity, because calling the effective diffusivity method runs the diffusion itself.  We must remember to input our boundaries as parameters, so that effective_diffusivity is only calculated accross the section we have chosen instead of over the whole network."
     ]
    },
    {
     "cell_type": "code",
     "collapsed": false,
     "input": [
      "effective_diffusivity = Fickian_alg.effective_diffusivity(fluid = air, boundary_1 = bottom_boundary, boundary_2 = top_boundary)\n",
      "bulk_diffusivity = air.get_pore_data(prop = 'diffusivity')\n",
      "normal_diffusivity = effective_diffusivity/bulk_diffusivity"
     ],
     "language": "python",
     "metadata": {},
     "outputs": [
      {
       "output_type": "stream",
       "stream": "stdout",
       "text": [
        "{'throat.occupancy': 'Healthy Vector'}\n",
        "{'throat.diffusive_conductance': 'Healthy Vector'}\n",
        "could not regenerate diffusive_conductance\n"
       ]
      }
     ],
     "prompt_number": 14
    },
    {
     "cell_type": "code",
     "collapsed": false,
     "input": [
      "print(normal_diffusivity)"
     ],
     "language": "python",
     "metadata": {},
     "outputs": [
      {
       "output_type": "stream",
       "stream": "stdout",
       "text": [
        "[ 0.06152674]\n"
       ]
      }
     ],
     "prompt_number": 15
    },
    {
     "cell_type": "heading",
     "level": 2,
     "metadata": {},
     "source": [
      "Calculating saturation"
     ]
    },
    {
     "cell_type": "markdown",
     "metadata": {},
     "source": [
      "In Wu's first graph, he compares saturation and effective_diffusivity/bulk_diffusivity.  The only value that we are missing is saturation, which we can acquire with the following loop.  We only wish to find the saturation in the section that we used to calculate effective diffusion.  Therefore, we only check pores between the last pore in the bottom boundary and the first pore in the top boundary.  Note that the volume of throats is neglected."
     ]
    },
    {
     "cell_type": "code",
     "collapsed": false,
     "input": [
      "final_pores = water.get_pore_data('occupancy')*1\n",
      "pore_volumes = pn.get_pore_data(prop = 'volume')\n",
      "\n",
      "sum_volume = 0\n",
      "filled_volume = 0\n",
      "\n",
      "for i in range(bottom_boundary[-1], top_boundary[0]):\n",
      "    sum_volume += pore_volumes[i]\n",
      "    if final_pores[i] != 0:\n",
      "        filled_volume += pore_volumes[i]\n",
      "\n",
      "saturation = filled_volume/sum_volume \n",
      "print(saturation)"
     ],
     "language": "python",
     "metadata": {},
     "outputs": [
      {
       "output_type": "stream",
       "stream": "stdout",
       "text": [
        "0.115812917595\n"
       ]
      }
     ],
     "prompt_number": 16
    },
    {
     "cell_type": "heading",
     "level": 2,
     "metadata": {},
     "source": [
      "Writing a method for running simulations"
     ]
    },
    {
     "cell_type": "markdown",
     "metadata": {},
     "source": [
      "If we want to run many simulations in a row, it makes more sense to put all the code generated so far into one function.  We can call this function run_simulation(...), and give it n, low, high, and end_condition as paramaters (remember that n helps with the size of the network, low and high give the min and max throat radii values, and end_condition determines when we want invasion percolation to terminate)."
     ]
    },
    {
     "cell_type": "code",
     "collapsed": false,
     "input": [
      "def run_simulation(n, low, high, run_dry = False):\n",
      "    \n",
      "    Lc = 25e-6\n",
      "    n = n\n",
      "    low = low\n",
      "    high = high\n",
      "    \n",
      "    #making a network that is [n, n, 2n] pores in dimension\n",
      "    pn = OpenPNM.Network.Cubic(name = 'Wu', loglevel = 30)\n",
      "    pn.generate(divisions = [n,n,2*n], add_boundaries= False, lattice_spacing = [Lc], loglevel = 30)\n",
      "    locations = pn.get_pore_indices()\n",
      "    geo = OpenPNM.Geometry.GenericGeometry(name = 'wu_geometry', network = pn)\n",
      "    geo.set_locations(pores = pn.pores('all'), throats = 'all')\n",
      "        \n",
      "    #all methods must be added to geo (note 'even_distribution' for throat diameter)\n",
      "    geo.add_method(prop='pore_diameter',model='constant', value = 24e-6)\n",
      "    geo.add_method(prop='pore_volume',model='sphere')\n",
      "    geo.add_method(prop='throat_diameter', model='uniform_distribution', low = low, high = high)\n",
      "    geo.add_method(prop='throat_length',model='straight')\n",
      "    geo.add_method(prop='throat_volume',model='cylinder')\n",
      "    pn.regenerate_geometries()\n",
      "    \n",
      "    #Setting up fluids\n",
      "    air = OpenPNM.Fluids.Air(network = pn, name = 'air')\n",
      "    water = OpenPNM.Fluids.Water(network = pn, name = 'water')\n",
      "    pn.regenerate_fluids()\n",
      "    \n",
      "    phys_water = OpenPNM.Physics.GenericPhysics(network=pn,fluid=water, geometry = geo, name='standard_water_physics')\n",
      "    phys_air = OpenPNM.Physics.GenericPhysics(network=pn,fluid=air, geometry = geo, name='standard_air_physics')\n",
      "    phys_water.add_method(prop='capillary_pressure', model='purcell', r_toroid=1e-5)\n",
      "    phys_water.add_method(prop='hydraulic_conductance',model='hagen_poiseuille')\n",
      "    phys_water.add_method(prop='diffusive_conductance', model='bulk_diffusion', shape = 'circular')\n",
      "    phys_air.add_method(prop='hydraulic_conductance',model='hagen_poiseuille')\n",
      "\n",
      "    bulk_diffusion_wu(physics = phys_air, network = pn, fluid = air, geometry = geo, propname = 'diffusive_conductance')\n",
      "    pn.regenerate_physics()\n",
      "    inlets = [pn.get_pore_indices(labels = ['bottom'])]\n",
      "    outlets = pn.get_pore_indices(labels = ['top'])\n",
      "   \n",
      "    inlets = pn.get_pore_indices(labels = ['bottom']) #in brackets so the whole bottom of the lattice is considered 1 pore\n",
      "    outlets = pn.get_pore_indices(labels = ['top'])\n",
      "    end_condition = 'breakthrough'\n",
      "\n",
      "    OP_1 = OpenPNM.Algorithms.InvasionPercolation(network = pn, name = 'OP_1',loglevel=30)\n",
      "    OP_1.run(invading_fluid = water, defending_fluid = air, inlets = inlets, outlets = outlets, end_condition = end_condition)\n",
      "    OP_1.update()\n",
      "    \n",
      "    if(run_dry == True):\n",
      "        OP_1.update(IPseq = 0)\n",
      "    Fickian_alg = OpenPNM.Algorithms.FickianDiffusion(loggername = 'Fickian', name = 'fickian_alg', network = pn)\n",
      "    \n",
      "    #must be recalculated after invasion percolation runs\n",
      "    bulk_diffusion_wu(physics = phys_air, network = pn, fluid = air, geometry = geo, propname = 'diffusive_conductance')\n",
      "    \n",
      "    #set labels for top boundary\n",
      "    #set labels for bottom boundary\n",
      "    A = pn._Nx**2\n",
      "\n",
      "    z_dimension = int(pn.domain_size(dimension = 'height')/Lc) #number of pores in the z direction\n",
      "    quarter_layer = z_dimension/4 #estimates which layer marks 1/4 up the lattice\n",
      "    pore_number = int(quarter_layer*A) #gives the first pore in the layer 1/4 up the lattice\n",
      "\n",
      "    bottom_boundary = list(range(pore_number, pore_number + A))\n",
      "    top_boundary = list(range(pn.num_pores() - pore_number, pn.num_pores() - pore_number +A))\n",
      "    \n",
      "    #effective_diffusivity has been rewritten to use the correct length.  Length being used is now half! perfect!\n",
      "    effective_diffusivity = Fickian_alg.effective_diffusivity(fluid = air, boundary_1 = bottom_boundary, boundary_2 = top_boundary)\n",
      "    bulk_diffusivity = air.get_pore_data(prop = 'diffusivity')\n",
      "    normal_diffusivity = effective_diffusivity/bulk_diffusivity\n",
      "    \n",
      "    #calculation of saturation\n",
      "    final_pores = water.get_pore_data('occupancy')*1\n",
      "    pore_volumes = pn.get_pore_data(prop = 'volume')\n",
      "\n",
      "    sum_volume = 0\n",
      "    filled_volume = 0\n",
      "\n",
      "    for i in range(bottom_boundary[-1], top_boundary[0]):\n",
      "        sum_volume += pore_volumes[i]\n",
      "        if final_pores[i] != 0:\n",
      "            filled_volume += pore_volumes[i]\n",
      "        \n",
      "    saturation = filled_volume/sum_volume \n",
      "    result = [saturation, normal_diffusivity[0]]\n",
      "    return result"
     ],
     "language": "python",
     "metadata": {},
     "outputs": [],
     "prompt_number": 4
    },
    {
     "cell_type": "heading",
     "level": 2,
     "metadata": {},
     "source": [
      "Writing a method for saving simulation data"
     ]
    },
    {
     "cell_type": "markdown",
     "metadata": {},
     "source": [
      "It is helpful to save the results generated for each simulation inside a data file so that we can see the progress as the simulation runs.  We can write a saving_simulation_data() function for this.  At the same time, we can pass a variable to define the number of times we want to run a particular kind of simulation, and have saving_simulation_data() save data for multiple runs.  In addition to being written to a file, the data should also be saved into x_values and y_values arrays, to make it easy to graph later."
     ]
    },
    {
     "cell_type": "code",
     "collapsed": false,
     "input": [
      "def saving_simulation_data(n, low, high, number_times_run, x_values, y_values, run_dry = False):\n",
      "    x_values = x_values\n",
      "    y_values = y_values\n",
      "    \n",
      "    for x in range(number_times_run):\n",
      "        data = run_simulation(n, low, high, run_dry = run_dry)\n",
      "        x_values.append(data[0])\n",
      "        y_values.append(data[1])\n",
      "        \n",
      "        if(x == 0):\n",
      "            f = open('simulationResults', 'w')\n",
      "        else:\n",
      "            f = open('simulationResults', 'a')\n",
      "        f.write('\\nsimulation: ')\n",
      "        f.write(str(x))\n",
      "        f.write('\\nsaturation: ')\n",
      "        f.write(str(data[0]))\n",
      "        f.write('\\nnormalized diffusivity: ')\n",
      "        f.write(str(data[1]))\n",
      "        f.close()"
     ],
     "language": "python",
     "metadata": {},
     "outputs": [],
     "prompt_number": 5
    },
    {
     "cell_type": "heading",
     "level": 2,
     "metadata": {},
     "source": [
      "Generating a graph of saturation versus normalized diffusivity"
     ]
    },
    {
     "cell_type": "markdown",
     "metadata": {},
     "source": [
      "Generating Wu's first graph should now be trivial.  First, we must gather the data by running simulations with n = 14, low = .5e-6, high = 9.5e-6.  By running simulations with different end_conditions, we make sure that saturation varies enough to show the relationship between saturation and normalized diffusivity.  Wu suggests using end_condition values of 0, breakthrough (1 pore out of total outlets), .25, .5, and 1.  By running more than 1 simulation of each type, we make sure to generate enough data to be sure of the trend.  \n",
      "\n",
      "Note that the more simulations that are run, the longer this process will take.  To adequately regenerate Wu's data, we would want to run each of these different end_condition simulations upwards of 20 times.  For the sake of saving time, we can run each only 2 times to generate a graph that shows the trend.  With number_times_run for each of the lines below at 2, the simulation will still take a few minutes.  The progress of the simulations can be watched inside the file that the data is being saved to."
     ]
    },
    {
     "cell_type": "code",
     "collapsed": false,
     "input": [
      "x_values1 = []\n",
      "y_values1 = []\n",
      "\n",
      "saving_simulation_data(n = 14, low = .5e-6, high = 9.5e-6, number_times_run = 20, x_values = x_values1, y_values = y_values1)"
     ],
     "language": "python",
     "metadata": {},
     "outputs": [
      {
       "output_type": "stream",
       "stream": "stdout",
       "text": [
        "     IP algorithm at 0 % completion at 757 seconds\n",
        "     IP algorithm at 60 % completion at 757 seconds\n",
        "     IP algorithm at"
       ]
      },
      {
       "output_type": "stream",
       "stream": "stdout",
       "text": [
        " 80 % completion at 763 seconds\n",
        "{'throat.occupancy': 'Healthy Vector'}"
       ]
      },
      {
       "output_type": "stream",
       "stream": "stdout",
       "text": [
        "\n",
        "{'throat.diffusive_conductance': 'Healthy Vector'}\n",
        "could not regenerate diffusive_conductance\n",
        "     IP algorithm at"
       ]
      },
      {
       "output_type": "stream",
       "stream": "stdout",
       "text": [
        " 0 % completion at 767 seconds\n",
        "     IP algorithm at 60 % completion at 767 seconds\n",
        "     IP algorithm at"
       ]
      },
      {
       "output_type": "stream",
       "stream": "stdout",
       "text": [
        " 80 % completion at 771 seconds\n",
        "{'throat.occupancy': 'Healthy Vector'}"
       ]
      },
      {
       "output_type": "stream",
       "stream": "stdout",
       "text": [
        "\n",
        "{'throat.diffusive_conductance': 'Healthy Vector'}\n",
        "could not regenerate diffusive_conductance\n",
        "     IP algorithm at"
       ]
      },
      {
       "output_type": "stream",
       "stream": "stdout",
       "text": [
        " 0 % completion at 774 seconds\n",
        "     IP algorithm at 60 % completion at 774 seconds\n",
        "     IP algorithm at"
       ]
      },
      {
       "output_type": "stream",
       "stream": "stdout",
       "text": [
        " 80 % completion at 776 seconds\n",
        "{'throat.occupancy': 'Healthy Vector'}"
       ]
      },
      {
       "output_type": "stream",
       "stream": "stdout",
       "text": [
        "\n",
        "{'throat.diffusive_conductance': 'Healthy Vector'}\n",
        "could not regenerate diffusive_conductance\n",
        "     IP algorithm at"
       ]
      },
      {
       "output_type": "stream",
       "stream": "stdout",
       "text": [
        " 0 % completion at 779 seconds\n",
        "     IP algorithm at 60 % completion at 779 seconds\n",
        "     IP algorithm at"
       ]
      },
      {
       "output_type": "stream",
       "stream": "stdout",
       "text": [
        " 80 % completion at 784 seconds\n",
        "{'throat.occupancy': 'Healthy Vector'}"
       ]
      },
      {
       "output_type": "stream",
       "stream": "stdout",
       "text": [
        "\n",
        "{'throat.diffusive_conductance': 'Healthy Vector'}\n",
        "could not regenerate diffusive_conductance\n",
        "     IP algorithm at"
       ]
      },
      {
       "output_type": "stream",
       "stream": "stdout",
       "text": [
        " 0 % completion at 790 seconds\n",
        "     IP algorithm at 60 % completion at 790 seconds\n",
        "     IP algorithm at"
       ]
      },
      {
       "output_type": "stream",
       "stream": "stdout",
       "text": [
        " 80 % completion at 799 seconds\n",
        "{'throat.occupancy': 'Healthy Vector'}"
       ]
      },
      {
       "output_type": "stream",
       "stream": "stdout",
       "text": [
        "\n",
        "{'throat.diffusive_conductance': 'Healthy Vector'}\n",
        "could not regenerate diffusive_conductance\n",
        "     IP algorithm at"
       ]
      },
      {
       "output_type": "stream",
       "stream": "stdout",
       "text": [
        " 0 % completion at 803 seconds\n",
        "     IP algorithm at 60 % completion at 803 seconds\n",
        "     IP algorithm at"
       ]
      },
      {
       "output_type": "stream",
       "stream": "stdout",
       "text": [
        " 80 % completion at 808 seconds\n",
        "{'throat.occupancy': 'Healthy Vector'}"
       ]
      },
      {
       "output_type": "stream",
       "stream": "stdout",
       "text": [
        "\n",
        "{'throat.diffusive_conductance': 'Healthy Vector'}\n",
        "could not regenerate diffusive_conductance\n",
        "     IP algorithm at"
       ]
      },
      {
       "output_type": "stream",
       "stream": "stdout",
       "text": [
        " 0 % completion at 813 seconds\n",
        "     IP algorithm at 60 % completion at 813 seconds\n",
        "     IP algorithm at"
       ]
      },
      {
       "output_type": "stream",
       "stream": "stdout",
       "text": [
        " 80 % completion at 819 seconds\n",
        "     IP algorithm at 100% completion at "
       ]
      },
      {
       "output_type": "stream",
       "stream": "stdout",
       "text": [
        " 820  seconds\n",
        "{'throat.occupancy': 'Healthy Vector'}"
       ]
      },
      {
       "output_type": "stream",
       "stream": "stdout",
       "text": [
        "\n",
        "{'throat.diffusive_conductance': 'Healthy Vector'}\n",
        "could not regenerate diffusive_conductance\n",
        "     IP algorithm at"
       ]
      },
      {
       "output_type": "stream",
       "stream": "stdout",
       "text": [
        " 0 % completion at 823 seconds\n",
        "     IP algorithm at 60 % completion at 823 seconds\n",
        "     IP algorithm at"
       ]
      },
      {
       "output_type": "stream",
       "stream": "stdout",
       "text": [
        " 80 % completion at 827 seconds\n",
        "{'throat.occupancy': 'Healthy Vector'}"
       ]
      },
      {
       "output_type": "stream",
       "stream": "stdout",
       "text": [
        "\n",
        "{'throat.diffusive_conductance': 'Healthy Vector'}\n",
        "could not regenerate diffusive_conductance\n",
        "     IP algorithm at"
       ]
      },
      {
       "output_type": "stream",
       "stream": "stdout",
       "text": [
        " 0 % completion at 835 seconds\n",
        "     IP algorithm at 60 % completion at 835 seconds\n",
        "     IP algorithm at"
       ]
      },
      {
       "output_type": "stream",
       "stream": "stdout",
       "text": [
        " 80 % completion at 843 seconds\n",
        "{'throat.occupancy': 'Healthy Vector'}"
       ]
      },
      {
       "output_type": "stream",
       "stream": "stdout",
       "text": [
        "\n",
        "{'throat.diffusive_conductance': 'Healthy Vector'}\n",
        "could not regenerate diffusive_conductance\n",
        "     IP algorithm at"
       ]
      },
      {
       "output_type": "stream",
       "stream": "stdout",
       "text": [
        " 0 % completion at 854 seconds\n",
        "     IP algorithm at 60 % completion at 854 seconds\n",
        "     IP algorithm at"
       ]
      },
      {
       "output_type": "stream",
       "stream": "stdout",
       "text": [
        " 80 % completion at 862 seconds\n",
        "     IP algorithm at 100% completion at "
       ]
      },
      {
       "output_type": "stream",
       "stream": "stdout",
       "text": [
        " 866  seconds\n",
        "{'throat.occupancy': 'Healthy Vector'}"
       ]
      },
      {
       "output_type": "stream",
       "stream": "stdout",
       "text": [
        "\n",
        "{'throat.diffusive_conductance': 'Healthy Vector'}\n",
        "could not regenerate diffusive_conductance\n",
        "     IP algorithm at"
       ]
      },
      {
       "output_type": "stream",
       "stream": "stdout",
       "text": [
        " 0 % completion at 869 seconds\n",
        "     IP algorithm at 60 % completion at 869 seconds\n",
        "     IP algorithm at"
       ]
      },
      {
       "output_type": "stream",
       "stream": "stdout",
       "text": [
        " 80 % completion at 873 seconds\n",
        "{'throat.occupancy': 'Healthy Vector'}"
       ]
      },
      {
       "output_type": "stream",
       "stream": "stdout",
       "text": [
        "\n",
        "{'throat.diffusive_conductance': 'Healthy Vector'}\n",
        "could not regenerate diffusive_conductance\n",
        "     IP algorithm at"
       ]
      },
      {
       "output_type": "stream",
       "stream": "stdout",
       "text": [
        " 0 % completion at 877 seconds\n",
        "     IP algorithm at 60 % completion at 877 seconds\n",
        "     IP algorithm at"
       ]
      },
      {
       "output_type": "stream",
       "stream": "stdout",
       "text": [
        " 80 % completion at 885 seconds\n",
        "{'throat.occupancy': 'Healthy Vector'}"
       ]
      },
      {
       "output_type": "stream",
       "stream": "stdout",
       "text": [
        "\n",
        "{'throat.diffusive_conductance': 'Healthy Vector'}\n",
        "could not regenerate diffusive_conductance\n",
        "     IP algorithm at"
       ]
      },
      {
       "output_type": "stream",
       "stream": "stdout",
       "text": [
        " 0 % completion at 888 seconds\n",
        "     IP algorithm at 60 % completion at 888 seconds\n",
        "     IP algorithm at"
       ]
      },
      {
       "output_type": "stream",
       "stream": "stdout",
       "text": [
        " 80 % completion at 898 seconds\n",
        "     IP algorithm at 100% completion at "
       ]
      },
      {
       "output_type": "stream",
       "stream": "stdout",
       "text": [
        " 903  seconds\n",
        "{'throat.occupancy': 'Healthy Vector'}"
       ]
      },
      {
       "output_type": "stream",
       "stream": "stdout",
       "text": [
        "\n",
        "{'throat.diffusive_conductance': 'Healthy Vector'}\n",
        "could not regenerate diffusive_conductance\n",
        "     IP algorithm at"
       ]
      },
      {
       "output_type": "stream",
       "stream": "stdout",
       "text": [
        " 0 % completion at 906 seconds\n",
        "     IP algorithm at 60 % completion at 906 seconds\n",
        "     IP algorithm at"
       ]
      },
      {
       "output_type": "stream",
       "stream": "stdout",
       "text": [
        " 80 % completion at 915 seconds\n",
        "{'throat.occupancy': 'Healthy Vector'}"
       ]
      },
      {
       "output_type": "stream",
       "stream": "stdout",
       "text": [
        "\n",
        "{'throat.diffusive_conductance': 'Healthy Vector'}\n",
        "could not regenerate diffusive_conductance\n",
        "     IP algorithm at"
       ]
      },
      {
       "output_type": "stream",
       "stream": "stdout",
       "text": [
        " 0 % completion at 920 seconds\n",
        "     IP algorithm at 60 % completion at 920 seconds\n",
        "     IP algorithm at"
       ]
      },
      {
       "output_type": "stream",
       "stream": "stdout",
       "text": [
        " 80 % completion at 930 seconds\n",
        "{'throat.occupancy': 'Healthy Vector'}"
       ]
      },
      {
       "output_type": "stream",
       "stream": "stdout",
       "text": [
        "\n",
        "{'throat.diffusive_conductance': 'Healthy Vector'}\n",
        "could not regenerate diffusive_conductance\n",
        "     IP algorithm at"
       ]
      },
      {
       "output_type": "stream",
       "stream": "stdout",
       "text": [
        " 0 % completion at 933 seconds\n",
        "     IP algorithm at 60 % completion at 933 seconds\n",
        "     IP algorithm at"
       ]
      },
      {
       "output_type": "stream",
       "stream": "stdout",
       "text": [
        " 80 % completion at 937 seconds\n",
        "{'throat.occupancy': 'Healthy Vector'}"
       ]
      },
      {
       "output_type": "stream",
       "stream": "stdout",
       "text": [
        "\n",
        "{'throat.diffusive_conductance': 'Healthy Vector'}\n",
        "could not regenerate diffusive_conductance\n",
        "     IP algorithm at"
       ]
      },
      {
       "output_type": "stream",
       "stream": "stdout",
       "text": [
        " 0 % completion at 940 seconds\n",
        "     IP algorithm at 60 % completion at 940 seconds\n",
        "     IP algorithm at"
       ]
      },
      {
       "output_type": "stream",
       "stream": "stdout",
       "text": [
        " 80 % completion at 948 seconds\n",
        "     IP algorithm at 100% completion at "
       ]
      },
      {
       "output_type": "stream",
       "stream": "stdout",
       "text": [
        " 948  seconds\n",
        "{'throat.occupancy': 'Healthy Vector'}"
       ]
      },
      {
       "output_type": "stream",
       "stream": "stdout",
       "text": [
        "\n",
        "{'throat.diffusive_conductance': 'Healthy Vector'}\n",
        "could not regenerate diffusive_conductance\n",
        "     IP algorithm at"
       ]
      },
      {
       "output_type": "stream",
       "stream": "stdout",
       "text": [
        " 0 % completion at 951 seconds\n",
        "     IP algorithm at 60 % completion at 951 seconds\n",
        "     IP algorithm at"
       ]
      },
      {
       "output_type": "stream",
       "stream": "stdout",
       "text": [
        " 80 % completion at 958 seconds\n",
        "{'throat.occupancy': 'Healthy Vector'}"
       ]
      },
      {
       "output_type": "stream",
       "stream": "stdout",
       "text": [
        "\n",
        "{'throat.diffusive_conductance': 'Healthy Vector'}\n",
        "could not regenerate diffusive_conductance\n",
        "     IP algorithm at"
       ]
      },
      {
       "output_type": "stream",
       "stream": "stdout",
       "text": [
        " 0 % completion at 962 seconds\n",
        "     IP algorithm at 60 % completion at 962 seconds\n",
        "     IP algorithm at"
       ]
      },
      {
       "output_type": "stream",
       "stream": "stdout",
       "text": [
        " 80 % completion at 968 seconds\n",
        "{'throat.occupancy': 'Healthy Vector'}"
       ]
      },
      {
       "output_type": "stream",
       "stream": "stdout",
       "text": [
        "\n",
        "{'throat.diffusive_conductance': 'Healthy Vector'}\n",
        "could not regenerate diffusive_conductance\n",
        "     IP algorithm at"
       ]
      },
      {
       "output_type": "stream",
       "stream": "stdout",
       "text": [
        " 0 % completion at 973 seconds\n",
        "     IP algorithm at 60 % completion at 973 seconds\n",
        "     IP algorithm at"
       ]
      },
      {
       "output_type": "stream",
       "stream": "stdout",
       "text": [
        " 80 % completion at 979 seconds\n",
        "     IP algorithm at 100% completion at "
       ]
      },
      {
       "output_type": "stream",
       "stream": "stdout",
       "text": [
        " 986  seconds\n",
        "{'throat.occupancy': 'Healthy Vector'}"
       ]
      },
      {
       "output_type": "stream",
       "stream": "stdout",
       "text": [
        "\n",
        "{'throat.diffusive_conductance': 'Healthy Vector'}\n",
        "could not regenerate diffusive_conductance\n"
       ]
      }
     ],
     "prompt_number": 24
    },
    {
     "cell_type": "markdown",
     "metadata": {},
     "source": [
      "the data now has x values saved to x_values and y values saved to y_values.  We've already imported matplotlib.pyplot, so only a few lines of code are needed to generate a graph of the data.  \n",
      "\n",
      "One thing to note is that when using IPython notebook, installed with anaconda, using matplotlib will"
     ]
    },
    {
     "cell_type": "code",
     "collapsed": false,
     "input": [
      "plt.plot(x_values1, y_values1, 'ro')\n",
      "plt.title('saturation versus normalized diffusivity')\n",
      "plt.xlabel('saturation')\n",
      "plt.ylabel('normalized diffusivity')\n",
      "plt.show()"
     ],
     "language": "python",
     "metadata": {},
     "outputs": [
      {
       "metadata": {},
       "output_type": "display_data",
       "png": "[encoded data removed]",
       "text": [
        "<matplotlib.figure.Figure at 0x107ab1c88>"
       ]
      }
     ],
     "prompt_number": 25
    },
    {
     "cell_type": "markdown",
     "metadata": {},
     "source": [
      "The graph generated thus far should look something like this:"
     ]
    },
    {
     "cell_type": "code",
     "collapsed": false,
     "input": [
      "i = Image(url = 'http://i.imgur.com/CbuVrur.png')\n",
      "display(i)"
     ],
     "language": "python",
     "metadata": {},
     "outputs": [
      {
       "html": [
        "<img src=\"http://i.imgur.com/CbuVrur.png\"/>"
       ],
       "metadata": {},
       "output_type": "display_data",
       "text": [
        "<IPython.core.display.Image at 0x106646550>"
       ]
      }
     ],
     "prompt_number": 3
    },
    {
     "cell_type": "heading",
     "level": 2,
     "metadata": {},
     "source": [
      "Generating a graph of N (network size parameter) versus f(epsilon)"
     ]
    },
    {
     "cell_type": "markdown",
     "metadata": {},
     "source": [
      "Wu's second graph shows how N affects f(epsilon).  f(epsilon) is the same as normalized diffusivity when saturation is 0, so we can run many tests on dry networks. After running many trials, we will have x_values and y_values saved.  we want to use the values that N takes as our x_values, so we must also generate n_values to make graphing possible.\n",
      "\n",
      "Again, processing this information will take longer if x is higher.  We can run simulations with x = 2 that will run much faster, but generate much less data.  Running with x = 5 will take just a few minutes at most."
     ]
    },
    {
     "cell_type": "code",
     "collapsed": false,
     "input": [
      "x_values = []\n",
      "y_values = []\n",
      "n_values = []\n",
      "\n",
      "x = 5\n",
      "saving_simulation_data(n = 8, low = .5e-6, high = 9.5e-6, run_dry = True, number_times_run = x, x_values = x_values, y_values = y_values)\n",
      "for i in range(x):\n",
      "    n_values.append(8)\n",
      "saving_simulation_data(n = 10, low = .5e-6, high = 9.5e-6, run_dry = True, number_times_run = x, x_values = x_values, y_values = y_values)\n",
      "for i in range(x):\n",
      "    n_values.append(10)\n",
      "saving_simulation_data(n = 12, low = .5e-6, high = 9.5e-6, run_dry = True, number_times_run = x, x_values = x_values, y_values = y_values)\n",
      "for i in range(x):\n",
      "    n_values.append(12)\n",
      "saving_simulation_data(n = 14, low = .5e-6, high = 9.5e-6, run_dry = True, number_times_run = x, x_values = x_values, y_values = y_values)\n",
      "for i in range(x):\n",
      "    n_values.append(14)\n",
      "saving_simulation_data(n = 16, low = .5e-6, high = 9.5e-6, run_dry = True, number_times_run = x, x_values = x_values, y_values = y_values)\n",
      "for i in range(x):\n",
      "    n_values.append(16)\n",
      "saving_simulation_data(n = 20, low = .5e-6, high = 9.5e-6, run_dry = True, number_times_run = x, x_values = x_values, y_values = y_values)\n",
      "for i in range(x):\n",
      "    n_values.append(20)"
     ],
     "language": "python",
     "metadata": {},
     "outputs": [
      {
       "output_type": "stream",
       "stream": "stdout",
       "text": [
        "     IP algorithm at 0 % completion at 274 seconds\n",
        "     IP algorithm at 60 % completion at 274 seconds\n",
        "     IP algorithm at"
       ]
      },
      {
       "output_type": "stream",
       "stream": "stdout",
       "text": [
        " 80 % completion at 275 seconds\n",
        "{'throat.occupancy': 'Healthy Vector'}"
       ]
      },
      {
       "output_type": "stream",
       "stream": "stdout",
       "text": [
        "\n",
        "{'throat.diffusive_conductance': 'Healthy Vector'}\n",
        "could not regenerate diffusive_conductance\n",
        "     IP algorithm at"
       ]
      },
      {
       "output_type": "stream",
       "stream": "stdout",
       "text": [
        " 0 % completion at 276 seconds\n",
        "     IP algorithm at 60 % completion at 276 seconds\n",
        "     IP algorithm at"
       ]
      },
      {
       "output_type": "stream",
       "stream": "stdout",
       "text": [
        " 80 % completion at 277 seconds\n",
        "{'throat.occupancy': 'Healthy Vector'}"
       ]
      },
      {
       "output_type": "stream",
       "stream": "stdout",
       "text": [
        "\n",
        "{'throat.diffusive_conductance': 'Healthy Vector'}\n",
        "could not regenerate diffusive_conductance\n",
        "     IP algorithm at"
       ]
      },
      {
       "output_type": "stream",
       "stream": "stdout",
       "text": [
        " 0 % completion at 278 seconds\n",
        "     IP algorithm at 60 % completion at 278 seconds\n",
        "     IP algorithm at"
       ]
      },
      {
       "output_type": "stream",
       "stream": "stdout",
       "text": [
        " 80 % completion at 279 seconds\n",
        "     IP algorithm at 100% completion at "
       ]
      },
      {
       "output_type": "stream",
       "stream": "stdout",
       "text": [
        " 279  seconds\n",
        "{'throat.occupancy': 'Healthy Vector'}"
       ]
      },
      {
       "output_type": "stream",
       "stream": "stdout",
       "text": [
        "\n",
        "{'throat.diffusive_conductance': 'Healthy Vector'}\n",
        "could not regenerate diffusive_conductance\n",
        "     IP algorithm at"
       ]
      },
      {
       "output_type": "stream",
       "stream": "stdout",
       "text": [
        " 0 % completion at 279 seconds\n",
        "     IP algorithm at 60 % completion at 279 seconds\n",
        "     IP algorithm at"
       ]
      },
      {
       "output_type": "stream",
       "stream": "stdout",
       "text": [
        " 80 % completion at 280 seconds\n",
        "     IP algorithm at 100% completion at  280  seconds\n",
        "{'throat.occupancy': 'Healthy Vector'}"
       ]
      },
      {
       "output_type": "stream",
       "stream": "stdout",
       "text": [
        "\n",
        "{'throat.diffusive_conductance': 'Healthy Vector'}\n",
        "could not regenerate diffusive_conductance\n",
        "     IP algorithm at"
       ]
      },
      {
       "output_type": "stream",
       "stream": "stdout",
       "text": [
        " 0 % completion at 281 seconds\n",
        "     IP algorithm at 60 % completion at 281 seconds\n",
        "     IP algorithm at"
       ]
      },
      {
       "output_type": "stream",
       "stream": "stdout",
       "text": [
        " 80 % completion at 282 seconds\n",
        "     IP algorithm at 100% completion at  282  seconds\n",
        "{'throat.occupancy': 'Healthy Vector'}"
       ]
      },
      {
       "output_type": "stream",
       "stream": "stdout",
       "text": [
        "\n",
        "{'throat.diffusive_conductance': 'Healthy Vector'}\n",
        "could not regenerate diffusive_conductance\n",
        "     IP algorithm at"
       ]
      },
      {
       "output_type": "stream",
       "stream": "stdout",
       "text": [
        " 0 % completion at 283 seconds\n",
        "     IP algorithm at 60 % completion at 283 seconds\n",
        "     IP algorithm at"
       ]
      },
      {
       "output_type": "stream",
       "stream": "stdout",
       "text": [
        " 80 % completion at 286 seconds\n",
        "     IP algorithm at 100% completion at "
       ]
      },
      {
       "output_type": "stream",
       "stream": "stdout",
       "text": [
        " 286  seconds\n",
        "{'throat.occupancy': 'Healthy Vector'}"
       ]
      },
      {
       "output_type": "stream",
       "stream": "stdout",
       "text": [
        "\n",
        "{'throat.diffusive_conductance': 'Healthy Vector'}\n",
        "could not regenerate diffusive_conductance\n",
        "     IP algorithm at"
       ]
      },
      {
       "output_type": "stream",
       "stream": "stdout",
       "text": [
        " 0 % completion at 287 seconds\n",
        "     IP algorithm at 60 % completion at 287 seconds\n",
        "     IP algorithm at"
       ]
      },
      {
       "output_type": "stream",
       "stream": "stdout",
       "text": [
        " 80 % completion at 290 seconds\n",
        "     IP algorithm at 100% completion at "
       ]
      },
      {
       "output_type": "stream",
       "stream": "stdout",
       "text": [
        " 290  seconds\n",
        "{'throat.occupancy': 'Healthy Vector'}"
       ]
      },
      {
       "output_type": "stream",
       "stream": "stdout",
       "text": [
        "\n",
        "{'throat.diffusive_conductance': 'Healthy Vector'}\n",
        "could not regenerate diffusive_conductance\n",
        "     IP algorithm at"
       ]
      },
      {
       "output_type": "stream",
       "stream": "stdout",
       "text": [
        " 0 % completion at 291 seconds\n",
        "     IP algorithm at 60 % completion at 291 seconds\n",
        "     IP algorithm at"
       ]
      },
      {
       "output_type": "stream",
       "stream": "stdout",
       "text": [
        " 80 % completion at 294 seconds\n",
        "     IP algorithm at 100% completion at  294  seconds\n",
        "{'throat.occupancy': 'Healthy Vector'}"
       ]
      },
      {
       "output_type": "stream",
       "stream": "stdout",
       "text": [
        "\n",
        "{'throat.diffusive_conductance': 'Healthy Vector'}\n",
        "could not regenerate diffusive_conductance\n",
        "     IP algorithm at"
       ]
      },
      {
       "output_type": "stream",
       "stream": "stdout",
       "text": [
        " 0 % completion at 296 seconds\n",
        "     IP algorithm at 60 % completion at 296 seconds\n",
        "     IP algorithm at"
       ]
      },
      {
       "output_type": "stream",
       "stream": "stdout",
       "text": [
        " 80 % completion at 298 seconds\n",
        "     IP algorithm at 100% completion at "
       ]
      },
      {
       "output_type": "stream",
       "stream": "stdout",
       "text": [
        " 298  seconds\n",
        "{'throat.occupancy': 'Healthy Vector'}"
       ]
      },
      {
       "output_type": "stream",
       "stream": "stdout",
       "text": [
        "\n",
        "{'throat.diffusive_conductance': 'Healthy Vector'}\n",
        "could not regenerate diffusive_conductance\n",
        "     IP algorithm at"
       ]
      },
      {
       "output_type": "stream",
       "stream": "stdout",
       "text": [
        " 0 % completion at 300 seconds\n",
        "     IP algorithm at 60 % completion at 300 seconds\n",
        "     IP algorithm at"
       ]
      },
      {
       "output_type": "stream",
       "stream": "stdout",
       "text": [
        " 80 % completion at 301 seconds\n",
        "{'throat.occupancy': 'Healthy Vector'}"
       ]
      },
      {
       "output_type": "stream",
       "stream": "stdout",
       "text": [
        "\n",
        "{'throat.diffusive_conductance': 'Healthy Vector'}\n",
        "could not regenerate diffusive_conductance\n",
        "     IP algorithm at"
       ]
      },
      {
       "output_type": "stream",
       "stream": "stdout",
       "text": [
        " 0 % completion at 303 seconds\n",
        "     IP algorithm at 60 % completion at 303 seconds\n",
        "     IP algorithm at"
       ]
      },
      {
       "output_type": "stream",
       "stream": "stdout",
       "text": [
        " 80 % completion at 306 seconds\n",
        "{'throat.occupancy': 'Healthy Vector'}"
       ]
      },
      {
       "output_type": "stream",
       "stream": "stdout",
       "text": [
        "\n",
        "{'throat.diffusive_conductance': 'Healthy Vector'}\n",
        "could not regenerate diffusive_conductance\n",
        "     IP algorithm at"
       ]
      },
      {
       "output_type": "stream",
       "stream": "stdout",
       "text": [
        " 0 % completion at 308 seconds\n",
        "     IP algorithm at 60 % completion at 308 seconds\n",
        "     IP algorithm at"
       ]
      },
      {
       "output_type": "stream",
       "stream": "stdout",
       "text": [
        " 80 % completion at 312 seconds\n",
        "{'throat.occupancy': 'Healthy Vector'}"
       ]
      },
      {
       "output_type": "stream",
       "stream": "stdout",
       "text": [
        "\n",
        "{'throat.diffusive_conductance': 'Healthy Vector'}\n",
        "could not regenerate diffusive_conductance\n",
        "     IP algorithm at"
       ]
      },
      {
       "output_type": "stream",
       "stream": "stdout",
       "text": [
        " 0 % completion at 315 seconds\n",
        "     IP algorithm at 60 % completion at 315 seconds\n",
        "     IP algorithm at"
       ]
      },
      {
       "output_type": "stream",
       "stream": "stdout",
       "text": [
        " 80 % completion at 318 seconds\n",
        "{'throat.occupancy': 'Healthy Vector'}"
       ]
      },
      {
       "output_type": "stream",
       "stream": "stdout",
       "text": [
        "\n",
        "{'throat.diffusive_conductance': 'Healthy Vector'}\n",
        "could not regenerate diffusive_conductance\n",
        "     IP algorithm at"
       ]
      },
      {
       "output_type": "stream",
       "stream": "stdout",
       "text": [
        " 0 % completion at 323 seconds\n",
        "     IP algorithm at 60 % completion at 323 seconds\n",
        "     IP algorithm at"
       ]
      },
      {
       "output_type": "stream",
       "stream": "stdout",
       "text": [
        " 80 % completion at 332 seconds\n",
        "     IP algorithm at 100% completion at "
       ]
      },
      {
       "output_type": "stream",
       "stream": "stdout",
       "text": [
        " 333  seconds\n",
        "{'throat.occupancy': 'Healthy Vector'}"
       ]
      },
      {
       "output_type": "stream",
       "stream": "stdout",
       "text": [
        "\n",
        "{'throat.diffusive_conductance': 'Healthy Vector'}\n",
        "could not regenerate diffusive_conductance\n",
        "     IP algorithm at"
       ]
      },
      {
       "output_type": "stream",
       "stream": "stdout",
       "text": [
        " 0 % completion at 335 seconds\n",
        "     IP algorithm at 60 % completion at 335 seconds\n",
        "     IP algorithm at"
       ]
      },
      {
       "output_type": "stream",
       "stream": "stdout",
       "text": [
        " 80 % completion at 339 seconds\n",
        "     IP algorithm at 100% completion at "
       ]
      },
      {
       "output_type": "stream",
       "stream": "stdout",
       "text": [
        " 339  seconds\n",
        "{'throat.occupancy': 'Healthy Vector'}"
       ]
      },
      {
       "output_type": "stream",
       "stream": "stdout",
       "text": [
        "\n",
        "{'throat.diffusive_conductance': 'Healthy Vector'}\n",
        "could not regenerate diffusive_conductance\n",
        "     IP algorithm at"
       ]
      },
      {
       "output_type": "stream",
       "stream": "stdout",
       "text": [
        " 0 % completion at 342 seconds\n",
        "     IP algorithm at 60 % completion at 342 seconds\n",
        "     IP algorithm at"
       ]
      },
      {
       "output_type": "stream",
       "stream": "stdout",
       "text": [
        " 80 % completion at 350 seconds\n",
        "{'throat.occupancy': 'Healthy Vector'}"
       ]
      },
      {
       "output_type": "stream",
       "stream": "stdout",
       "text": [
        "\n",
        "{'throat.diffusive_conductance': 'Healthy Vector'}\n",
        "could not regenerate diffusive_conductance\n",
        "     IP algorithm at"
       ]
      },
      {
       "output_type": "stream",
       "stream": "stdout",
       "text": [
        " 0 % completion at 355 seconds\n",
        "     IP algorithm at 60 % completion at 355 seconds\n",
        "     IP algorithm at"
       ]
      },
      {
       "output_type": "stream",
       "stream": "stdout",
       "text": [
        " 80 % completion at 363 seconds\n",
        "     IP algorithm at 100% completion at "
       ]
      },
      {
       "output_type": "stream",
       "stream": "stdout",
       "text": [
        " 363  seconds\n",
        "{'throat.occupancy': 'Healthy Vector'}"
       ]
      },
      {
       "output_type": "stream",
       "stream": "stdout",
       "text": [
        "\n",
        "{'throat.diffusive_conductance': 'Healthy Vector'}\n",
        "could not regenerate diffusive_conductance\n",
        "     IP algorithm at"
       ]
      },
      {
       "output_type": "stream",
       "stream": "stdout",
       "text": [
        " 0 % completion at 367 seconds\n",
        "     IP algorithm at 60 % completion at 367 seconds\n",
        "     IP algorithm at"
       ]
      },
      {
       "output_type": "stream",
       "stream": "stdout",
       "text": [
        " 80 % completion at 373 seconds\n",
        "{'throat.occupancy': 'Healthy Vector'}"
       ]
      },
      {
       "output_type": "stream",
       "stream": "stdout",
       "text": [
        "\n",
        "{'throat.diffusive_conductance': 'Healthy Vector'}\n",
        "could not regenerate diffusive_conductance\n",
        "     IP algorithm at"
       ]
      },
      {
       "output_type": "stream",
       "stream": "stdout",
       "text": [
        " 0 % completion at 377 seconds\n",
        "     IP algorithm at 60 % completion at 377 seconds\n",
        "     IP algorithm at"
       ]
      },
      {
       "output_type": "stream",
       "stream": "stdout",
       "text": [
        " 80 % completion at 386 seconds\n",
        "     IP algorithm at 100% completion at "
       ]
      },
      {
       "output_type": "stream",
       "stream": "stdout",
       "text": [
        " 387  seconds\n",
        "{'throat.occupancy': 'Healthy Vector'}"
       ]
      },
      {
       "output_type": "stream",
       "stream": "stdout",
       "text": [
        "\n",
        "{'throat.diffusive_conductance': 'Healthy Vector'}\n",
        "could not regenerate diffusive_conductance\n",
        "     IP algorithm at"
       ]
      },
      {
       "output_type": "stream",
       "stream": "stdout",
       "text": [
        " 0 % completion at 390 seconds\n",
        "     IP algorithm at 60 % completion at 390 seconds\n",
        "     IP algorithm at"
       ]
      },
      {
       "output_type": "stream",
       "stream": "stdout",
       "text": [
        " 80 % completion at 395 seconds\n",
        "     IP algorithm at 100% completion at "
       ]
      },
      {
       "output_type": "stream",
       "stream": "stdout",
       "text": [
        " 398  seconds\n",
        "{'throat.occupancy': 'Healthy Vector'}"
       ]
      },
      {
       "output_type": "stream",
       "stream": "stdout",
       "text": [
        "\n",
        "{'throat.diffusive_conductance': 'Healthy Vector'}\n",
        "could not regenerate diffusive_conductance\n",
        "     IP algorithm at"
       ]
      },
      {
       "output_type": "stream",
       "stream": "stdout",
       "text": [
        " 0 % completion at 402 seconds\n",
        "     IP algorithm at 60 % completion at 402 seconds\n",
        "     IP algorithm at"
       ]
      },
      {
       "output_type": "stream",
       "stream": "stdout",
       "text": [
        " 80 % completion at 422 seconds\n",
        "     IP algorithm at 100% completion at "
       ]
      },
      {
       "output_type": "stream",
       "stream": "stdout",
       "text": [
        " 424  seconds\n",
        "{'throat.occupancy': 'Healthy Vector'}"
       ]
      },
      {
       "output_type": "stream",
       "stream": "stdout",
       "text": [
        "\n",
        "{'throat.diffusive_conductance': 'Healthy Vector'}\n",
        "could not regenerate diffusive_conductance\n",
        "     IP algorithm at"
       ]
      },
      {
       "output_type": "stream",
       "stream": "stdout",
       "text": [
        " 0 % completion at 429 seconds\n",
        "     IP algorithm at 60 % completion at 429 seconds\n",
        "     IP algorithm at"
       ]
      },
      {
       "output_type": "stream",
       "stream": "stdout",
       "text": [
        " 80 % completion at 446 seconds\n",
        "{'throat.occupancy': 'Healthy Vector'}"
       ]
      },
      {
       "output_type": "stream",
       "stream": "stdout",
       "text": [
        "\n",
        "{'throat.diffusive_conductance': 'Healthy Vector'}\n",
        "could not regenerate diffusive_conductance\n",
        "     IP algorithm at"
       ]
      },
      {
       "output_type": "stream",
       "stream": "stdout",
       "text": [
        " 0 % completion at 454 seconds\n",
        "     IP algorithm at 60 % completion at 454 seconds\n",
        "     IP algorithm at"
       ]
      },
      {
       "output_type": "stream",
       "stream": "stdout",
       "text": [
        " 80 % completion at 461 seconds\n",
        "{'throat.occupancy': 'Healthy Vector'}"
       ]
      },
      {
       "output_type": "stream",
       "stream": "stdout",
       "text": [
        "\n",
        "{'throat.diffusive_conductance': 'Healthy Vector'}\n",
        "could not regenerate diffusive_conductance\n",
        "     IP algorithm at"
       ]
      },
      {
       "output_type": "stream",
       "stream": "stdout",
       "text": [
        " 0 % completion at 474 seconds\n",
        "     IP algorithm at 60 % completion at 474 seconds\n",
        "     IP algorithm at"
       ]
      },
      {
       "output_type": "stream",
       "stream": "stdout",
       "text": [
        " 80 % completion at 480 seconds\n",
        "{'throat.occupancy': 'Healthy Vector'}"
       ]
      },
      {
       "output_type": "stream",
       "stream": "stdout",
       "text": [
        "\n",
        "{'throat.diffusive_conductance': 'Healthy Vector'}\n",
        "could not regenerate diffusive_conductance\n",
        "     IP algorithm at"
       ]
      },
      {
       "output_type": "stream",
       "stream": "stdout",
       "text": [
        " 0 % completion at 488 seconds\n",
        "     IP algorithm at 60 % completion at 488 seconds\n",
        "     IP algorithm at"
       ]
      },
      {
       "output_type": "stream",
       "stream": "stdout",
       "text": [
        " 80 % completion at 495 seconds\n",
        "{'throat.occupancy': 'Healthy Vector'}"
       ]
      },
      {
       "output_type": "stream",
       "stream": "stdout",
       "text": [
        "\n",
        "{'throat.diffusive_conductance': 'Healthy Vector'}\n",
        "could not regenerate diffusive_conductance\n",
        "     IP algorithm at"
       ]
      },
      {
       "output_type": "stream",
       "stream": "stdout",
       "text": [
        " 0 % completion at 502 seconds\n",
        "     IP algorithm at 60 % completion at 502 seconds\n",
        "     IP algorithm at"
       ]
      },
      {
       "output_type": "stream",
       "stream": "stdout",
       "text": [
        " 80 % completion at 523 seconds\n",
        "{'throat.occupancy': 'Healthy Vector'}"
       ]
      },
      {
       "output_type": "stream",
       "stream": "stdout",
       "text": [
        "\n",
        "{'throat.diffusive_conductance': 'Healthy Vector'}\n",
        "could not regenerate diffusive_conductance\n",
        "     IP algorithm at"
       ]
      },
      {
       "output_type": "stream",
       "stream": "stdout",
       "text": [
        " 0 % completion at 547 seconds\n",
        "     IP algorithm at 60 % completion at 547 seconds\n",
        "     IP algorithm at"
       ]
      },
      {
       "output_type": "stream",
       "stream": "stdout",
       "text": [
        " 80 % completion at 595 seconds\n",
        "{'throat.occupancy': 'Healthy Vector'}"
       ]
      },
      {
       "output_type": "stream",
       "stream": "stdout",
       "text": [
        "\n",
        "{'throat.diffusive_conductance': 'Healthy Vector'}\n",
        "could not regenerate diffusive_conductance\n",
        "     IP algorithm at"
       ]
      },
      {
       "output_type": "stream",
       "stream": "stdout",
       "text": [
        " 0 % completion at 606 seconds\n",
        "     IP algorithm at 60 % completion at 606 seconds\n",
        "     IP algorithm at"
       ]
      },
      {
       "output_type": "stream",
       "stream": "stdout",
       "text": [
        " 80 % completion at 628 seconds\n",
        "{'throat.occupancy': 'Healthy Vector'}"
       ]
      },
      {
       "output_type": "stream",
       "stream": "stdout",
       "text": [
        "\n",
        "{'throat.diffusive_conductance': 'Healthy Vector'}\n",
        "could not regenerate diffusive_conductance\n",
        "     IP algorithm at"
       ]
      },
      {
       "output_type": "stream",
       "stream": "stdout",
       "text": [
        " 0 % completion at 642 seconds\n",
        "     IP algorithm at 60 % completion at 642 seconds\n",
        "     IP algorithm at"
       ]
      },
      {
       "output_type": "stream",
       "stream": "stdout",
       "text": [
        " 80 % completion at 690 seconds\n",
        "     IP algorithm at 100% completion at "
       ]
      },
      {
       "output_type": "stream",
       "stream": "stdout",
       "text": [
        " 695  seconds\n",
        "{'throat.occupancy': 'Healthy Vector'}"
       ]
      },
      {
       "output_type": "stream",
       "stream": "stdout",
       "text": [
        "\n",
        "{'throat.diffusive_conductance': 'Healthy Vector'}\n",
        "could not regenerate diffusive_conductance\n",
        "     IP algorithm at"
       ]
      },
      {
       "output_type": "stream",
       "stream": "stdout",
       "text": [
        " 0 % completion at 707 seconds\n",
        "     IP algorithm at 60 % completion at 707 seconds\n",
        "     IP algorithm at"
       ]
      },
      {
       "output_type": "stream",
       "stream": "stdout",
       "text": [
        " 80 % completion at 742 seconds\n",
        "     IP algorithm at 100% completion at "
       ]
      },
      {
       "output_type": "stream",
       "stream": "stdout",
       "text": [
        " 747  seconds\n",
        "{'throat.occupancy': 'Healthy Vector'}"
       ]
      },
      {
       "output_type": "stream",
       "stream": "stdout",
       "text": [
        "\n",
        "{'throat.diffusive_conductance': 'Healthy Vector'}\n",
        "could not regenerate diffusive_conductance\n"
       ]
      }
     ],
     "prompt_number": 15
    },
    {
     "cell_type": "markdown",
     "metadata": {},
     "source": [
      "Now we plot n_values versus y_values, so that we get a graph of N versus f(epsilon).  we can use plt.axis(x_min, x_max, y_min, y_max) to control the axis on the graph, to make it more clear that f(epsilon) should not change with N.  The graph should also make clear that the standard deviation of f(epsilon) decreases as N increases.  This makes sense, as increasing N also increases the number of throats.\n",
      "\n",
      "The plot axis have been adjusted to make it more obvious that F(epsilon) barely changes with N.  "
     ]
    },
    {
     "cell_type": "code",
     "collapsed": false,
     "input": [
      "plt.plot(n_values, y_values, 'ro')\n",
      "plt.title('N versus F(epsilon)')\n",
      "plt.xlabel('N')\n",
      "plt.ylabel('F(epsilon)')\n",
      "plt.axis([6, 22, .06, .1])\n",
      "plt.show()"
     ],
     "language": "python",
     "metadata": {},
     "outputs": [
      {
       "metadata": {},
       "output_type": "display_data",
       "png": "[encoded data removed]",
       "text": [
        "<matplotlib.figure.Figure at 0x10835f0f0>"
       ]
      }
     ],
     "prompt_number": 16
    },
    {
     "cell_type": "markdown",
     "metadata": {},
     "source": [
      "This graph should match the one below:"
     ]
    },
    {
     "cell_type": "code",
     "collapsed": false,
     "input": [
      "i = Image(url = 'http://i.imgur.com/X0oKL3j.png')\n",
      "display(i)"
     ],
     "language": "python",
     "metadata": {},
     "outputs": [
      {
       "html": [
        "<img src=\"http://i.imgur.com/X0oKL3j.png\"/>"
       ],
       "metadata": {},
       "output_type": "display_data",
       "text": [
        "<IPython.core.display.Image at 0x107ac6358>"
       ]
      }
     ],
     "prompt_number": 19
    },
    {
     "cell_type": "heading",
     "level": 2,
     "metadata": {},
     "source": [
      "Generating a graph of saturation versus g(s)"
     ]
    },
    {
     "cell_type": "markdown",
     "metadata": {},
     "source": [
      "Wu's third graph plots saturation versus g(s).  g(s)f(epsilon) = normalized_diffusivity, so g(s) = normalized_diffusivity/f(epsilon).  Because we are not varying the set up of our network, f(epsilon) will be constant.  Luckily, our second graph calculates this value many times for us.  We should use the average of this value in our calculation of g(s).  Lastly, we can graph g(s) using our x_values1 from our first graph, and our g(s) values calculated from our y_values1 and average f(epsilon).    "
     ]
    },
    {
     "cell_type": "code",
     "collapsed": false,
     "input": [
      "#find average value for f(epsilon)\n",
      "sum = 0\n",
      "count = 0\n",
      "for x in y_values:\n",
      "    sum += x\n",
      "    count += 1\n",
      "average_f = sum/count\n",
      "\n",
      "#prints graph for g(s) \n",
      "\n",
      "g_values = list(range(len(y_values1)))\n",
      "\n",
      "for x in range(len(y_values1)):\n",
      "    g_values[x] = y_values1[x]/average_f\n",
      "plt.plot(x_values1, g_values, 'ro')\n",
      "plt.title('saturation versus g(s)')\n",
      "plt.xlabel('saturation')\n",
      "plt.ylabel('g(s)')\n",
      "plt.axis([0, .7, 0, 1])\n",
      "plt.show()"
     ],
     "language": "python",
     "metadata": {},
     "outputs": [
      {
       "metadata": {},
       "output_type": "display_data",
       "png": "[encoded data removed]",
       "text": [
        "<matplotlib.figure.Figure at 0x107aa7f60>"
       ]
      }
     ],
     "prompt_number": 28
    },
    {
     "cell_type": "markdown",
     "metadata": {},
     "source": [
      "The graph generated should mimic the one below:"
     ]
    },
    {
     "cell_type": "code",
     "collapsed": false,
     "input": [
      "i = Image(url = 'http://i.imgur.com/YMTmKQ1.png')\n",
      "display(i)"
     ],
     "language": "python",
     "metadata": {},
     "outputs": [
      {
       "html": [
        "<img src=\"http://i.imgur.com/YMTmKQ1.png\"/>"
       ],
       "metadata": {},
       "output_type": "display_data",
       "text": [
        "<IPython.core.display.Image at 0x10838ba20>"
       ]
      }
     ],
     "prompt_number": 29
    },
    {
     "cell_type": "heading",
     "level": 2,
     "metadata": {},
     "source": [
      "Generating a graph of saturation versus alpha"
     ]
    },
    {
     "cell_type": "markdown",
     "metadata": {},
     "source": [
      "Finally, we want to print a graph of saturation versus alpha.  This gives us an idea of the equation for g(s) (g(s) = (1-s)^alpha).  The following prints an alpha value for every data point we have gathered.  Wu et al find alpha by using a best fit curve, but this simplification is enough to show that we have alpha values close to those Wu generated.  "
     ]
    },
    {
     "cell_type": "code",
     "collapsed": false,
     "input": [
      "alpha = []\n",
      "for x in range(len(g_values)):\n",
      "    alpha_value = np.log(g_values[x])/np.log(1 - x_values1[x])\n",
      "    alpha.append(alpha_value)\n",
      "plt.plot(x_values1, alpha, 'ro')\n",
      "plt.title('alpha versus saturation')\n",
      "plt.xlabel('saturation')\n",
      "plt.ylabel('alpha')\n",
      "#plt.axis([0, .5, 0, 3])\n",
      "plt.show()"
     ],
     "language": "python",
     "metadata": {},
     "outputs": [
      {
       "metadata": {},
       "output_type": "display_data",
       "png": "[encoded data removed]",
       "text": [
        "<matplotlib.figure.Figure at 0x10835f0f0>"
       ]
      }
     ],
     "prompt_number": 31
    },
    {
     "cell_type": "markdown",
     "metadata": {},
     "source": [
      "The graph generated should look something like this:"
     ]
    },
    {
     "cell_type": "code",
     "collapsed": false,
     "input": [
      "i = Image(url = 'http://i.imgur.com/6HHbcBP.png')\n",
      "display(i)"
     ],
     "language": "python",
     "metadata": {},
     "outputs": [
      {
       "html": [
        "<img src=\"http://i.imgur.com/6HHbcBP.png\"/>"
       ],
       "metadata": {},
       "output_type": "display_data",
       "text": [
        "<IPython.core.display.Image at 0x1083792b0>"
       ]
      }
     ],
     "prompt_number": 32
    },
    {
     "cell_type": "heading",
     "level": 2,
     "metadata": {},
     "source": [
      "Discrepencies between our data and Wu's data"
     ]
    },
    {
     "cell_type": "markdown",
     "metadata": {},
     "source": [
      "Our values aren't quite the same as those generated by Wu et al.  there are several reasons for this-\n",
      "\n",
      "1) the effective diffusivity calculations done by OpenPNM assume a binary system.  Our code finds diffusion of oxygen through nitrogen, while Wu et al find diffusion for oxygen alone.  Being able to completely copy Wu's equations would require much editing to OpenPNM, and it has been decided that maintaining only a binary system way of calculating effective diffusivity is preferable.\n",
      "\n",
      "2) There are some assumptions that had to be made that we cannot be sure matched perfectly with Wu's assumptions.  One example of this is temperature.  We have assumed the oxygen Wu was running through the network was at 273 degrees Kelvin, but we cannot be certain that this is the value he was using."
     ]
    }
   ],
   "metadata": {}
  }
 ]
}