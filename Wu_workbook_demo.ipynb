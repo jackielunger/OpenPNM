{
 "metadata": {
  "name": "",
  "signature": "sha256:7e884aca207aa10055f014d3edadcb91d17214a00e4e2c6bb6801f8a0374d5d0"
 },
 "nbformat": 3,
 "nbformat_minor": 0,
 "worksheets": [
  {
   "cells": [
    {
     "cell_type": "heading",
     "level": 1,
     "metadata": {},
     "source": [
      "A summary of this week's progress"
     ]
    },
    {
     "cell_type": "code",
     "collapsed": false,
     "input": [
      "cd OpenPNM"
     ],
     "language": "python",
     "metadata": {},
     "outputs": [
      {
       "output_type": "stream",
       "stream": "stdout",
       "text": [
        "D:\\For Bazylak\\Jaclyn Lunger\\Jackies_fork\\OpenPNM\n"
       ]
      }
     ],
     "prompt_number": 2
    },
    {
     "cell_type": "markdown",
     "metadata": {},
     "source": [
      "The following code is necessary but doesn't show any new progress"
     ]
    },
    {
     "cell_type": "code",
     "collapsed": false,
     "input": [
      "import OpenPNM\n",
      "import matplotlib.pyplot as plt\n",
      "import numpy as np\n",
      "import scipy as sp\n",
      "\n",
      "\n",
      "def bulk_diffusion_wu(physics,\n",
      "                      network,\n",
      "                      fluid,\n",
      "                      geometry,\n",
      "                      propname,\n",
      "                      diffusivity = 'diffusivity',\n",
      "                      molar_density = 'molar_density',\n",
      "                      throat_diameter = 'diameter',\n",
      "                      throat_length = 'length',\n",
      "                      pore_diameter = 'diameter',\n",
      "                      **params):\n",
      "    r\"\"\"\n",
      "        Calculate the diffusive conductance of throats in network (instead of a\n",
      "        conduit) based on the areas\n",
      "        \n",
      "        Parameters\n",
      "        ----------\n",
      "        network : OpenPNM Network Object\n",
      "        \n",
      "        fluid : OpenPNM Fluid Object\n",
      "        The fluid of interest\n",
      "        \n",
      "        Notes\n",
      "        -----\n",
      "        This function requires that all the necessary fluid properties already be\n",
      "        calculated.\n",
      "        \n",
      "        \"\"\"\n",
      "    #ct = fluid.get_data(prop='molar_density',throats='all',mode='interpolate')\n",
      "    #Interpolate pore values to throats\n",
      "    DABt = fluid.get_data(prop='diffusivity',throats='all',mode='interpolate')\n",
      "    #Find g for full throat\n",
      "    tdia = network.get_throat_data(prop=throat_diameter)\n",
      "    tlen = network.get_throat_data(prop=throat_length)\n",
      "    gt = (sp.pi*DABt*tdia**2)/(tlen*4)\n",
      "    value = gt[geometry.throats()]\n",
      "    fluid.set_data(prop=propname,throats=geometry.throats(),data=value)"
     ],
     "language": "python",
     "metadata": {},
     "outputs": [],
     "prompt_number": 1
    },
    {
     "cell_type": "heading",
     "level": 2,
     "metadata": {},
     "source": [
      "Boundary = True versus Boundary = False"
     ]
    },
    {
     "cell_type": "markdown",
     "metadata": {},
     "source": [
      "Progress #1) calc_internal_eff_prop now works if boundary = False.  The following code shows effective_diffusivity/bulk_diffusivity being calculated in a few different circumstances if boundary is set to false. \n",
      "\n",
      "Note:  I'm not currently making Wu's mistake of doubling L (this is why the values that are printed are half of what you'd expect)"
     ]
    },
    {
     "cell_type": "code",
     "collapsed": false,
     "input": [
      "n = 8\n",
      "Lc = 25e-6\n",
      "pn = OpenPNM.Network.Cubic(name = 'Wu', loglevel = 30)\n",
      "\n",
      "pn.generate(divisions = [n,n,2*n], add_boundaries= False, lattice_spacing = [Lc])\n",
      "locations = pn.get_pore_indices()\n",
      "geo = OpenPNM.Geometry.GenericGeometry(name = 'wu_geometry', network = pn, loglevel = 30)\n",
      "geo.set_locations(pores = pn.pores('all'), throats = 'all')\n",
      "\n",
      "low = 0.5e-6\n",
      "high = 9.5e-6\n",
      "\n",
      "geo.add_method(prop='pore_diameter',model='constant', value = 24e-6)\n",
      "geo.add_method(prop='pore_volume',model='sphere')\n",
      "geo.add_method(prop='throat_diameter', model='uniform_distribution', low = low, high = high)\n",
      "geo.add_method(prop='throat_length',model='straight')\n",
      "geo.add_method(prop='throat_volume',model='cylinder')\n",
      "\n",
      "pn.regenerate_geometries()\n",
      "\n",
      "air = OpenPNM.Fluids.Air(network = pn, name = 'air', loglevel = 30)\n",
      "water = OpenPNM.Fluids.Water(network = pn, name = 'water', loglevel = 30)\n",
      "pn.regenerate_fluids()\n",
      "\n",
      "phys_water = OpenPNM.Physics.GenericPhysics(network=pn,fluid=water, geometry = geo, name='standard_water_physics', loglevel = 30)\n",
      "phys_air = OpenPNM.Physics.GenericPhysics(network=pn,fluid=air, geometry = geo, name='standard_air_physics', loglevel = 30)\n",
      "\n",
      "phys_water.add_method(prop='capillary_pressure', model='purcell', r_toroid=1e-5)\n",
      "phys_water.add_method(prop='hydraulic_conductance',model='hagen_poiseuille')\n",
      "phys_water.add_method(prop='diffusive_conductance', model='bulk_diffusion', shape = 'circular')\n",
      "phys_air.add_method(prop='diffusive_conductance', model='bulk_diffusion', shape = 'circular')\n",
      "phys_air.add_method(prop='hydraulic_conductance',model='hagen_poiseuille')\n",
      "\n",
      "#bulk_diffusion_wu(physics = phys_air, network = pn, fluid = air, geometry = geo, propname = 'diffusive_conductance', loglevel = 30)\n",
      "pn.regenerate_physics()\n",
      "\n",
      "inlets = pn.get_pore_indices(labels = ['bottom']) #in brackets so the whole bottom of the lattice is considered 1 pore\n",
      "outlets = pn.get_pore_indices(labels = ['top'])\n",
      "end_condition = 'breakthrough'\n",
      "\n",
      "OP_1 = OpenPNM.Algorithms.InvasionPercolation(network = pn, name = 'OP_1',loglevel=30)\n",
      "OP_1.run(invading_fluid = water, defending_fluid = air, inlets = inlets, outlets = outlets, end_condition = end_condition)\n",
      "OP_1.update()\n",
      "#OP_1.update(IPseq = 0)\n",
      "\n",
      "Fickian_alg = OpenPNM.Algorithms.FickianDiffusion(loggername = 'Fickian', name = 'fickian_alg', network = pn)\n",
      "effective_diffusivity_original = Fickian_alg.effective_diffusivity(fluid = air)\n",
      "\n",
      "\n",
      "front_boundary = pn.get_pore_indices(labels = 'front')\n",
      "back_boundary = pn.get_pore_indices(labels = 'back')\n",
      "effective_diffusivity_X = Fickian_alg.effective_diffusivity(fluid = air, boundary_1 = front_boundary, boundary_2 = back_boundary)\n",
      "\n",
      "left_boundary = pn.get_pore_indices(labels = 'left')\n",
      "right_boundary = pn.get_pore_indices(labels = 'right')\n",
      "effective_diffusivity_Y = Fickian_alg.effective_diffusivity(fluid = air, boundary_1 = left_boundary, boundary_2 = right_boundary)\n",
      "\n",
      "bottom_boundary = pn.get_pore_indices(labels = 'bottom')\n",
      "top_boundary = pn.get_pore_indices(labels = 'top')\n",
      "effective_diffusivity_Z = Fickian_alg.effective_diffusivity(fluid = air, boundary_1 = bottom_boundary, boundary_2 = top_boundary)\n",
      "\n",
      "A = pn._Nx**2\n",
      "\n",
      "z_dimension = int(pn.domain_size(dimension = 'height')/Lc) #number of pores in the z direction\n",
      "quarter_layer = z_dimension/4 #estimates which layer marks 1/4 up the lattice\n",
      "pore_number = int(quarter_layer*A) #gives the first pore in the layer 1/4 up the lattice\n",
      "\n",
      "bottom_boundary = list(range(pore_number, pore_number + A))\n",
      "top_boundary = list(range(pn.num_pores() - pore_number, pn.num_pores() - pore_number +A))\n",
      "effective_diffusivity_Z_mod = Fickian_alg.effective_diffusivity(fluid = air, boundary_1 = bottom_boundary, boundary_2 = top_boundary)\n",
      "\n",
      "bulk_diffusivity = air.get_pore_data(prop = 'diffusivity')\n",
      "normal_diffusivity_original = effective_diffusivity_original/bulk_diffusivity\n",
      "print(\"normal diffusivity (X, Y, Z directions) from bottom surface to top surface using old method: \", normal_diffusivity_original)\n",
      "\n",
      "effective_diffusivity = [effective_diffusivity_X, effective_diffusivity_Y, effective_diffusivity_Z]\n",
      "normal_diffusivity = effective_diffusivity/bulk_diffusivity\n",
      "print(\"normal diffusivity (X, Y, Z directions) from bottom surface to top surface using new method: \", normal_diffusivity)\n",
      "\n",
      "normal_diffusivity_mod = effective_diffusivity_Z_mod/bulk_diffusivity\n",
      "print(\"normal diffusivity from 1/4 up to 1/4 from the top using new method: \", normal_diffusivity_mod)\n",
      "\n",
      "vis = OpenPNM.Visualization.VTK()\n",
      "vis.write(filename = 'test.vtp', network=pn,fluids=[air,water])"
     ],
     "language": "python",
     "metadata": {},
     "outputs": [
      {
       "output_type": "stream",
       "stream": "stdout",
       "text": [
        "[  1.55542838e-08   1.58361654e-08   1.59291207e-08 ...,   1.33503230e-08\n",
        "   1.75889135e-08   1.37562121e-08]\n",
        "[  1.69654972e-09   1.72729534e-09   1.73743424e-09 ...,   1.45615748e-09\n",
        "   1.91847254e-09   1.50042896e-09]\n",
        "     IP algorithm at 0 % completion at 0 seconds\n",
        "     IP algorithm at 60 % completion at 0 seconds\n",
        "{'throat.occupancy': 'Healthy Vector'}"
       ]
      },
      {
       "output_type": "stream",
       "stream": "stdout",
       "text": [
        "\n",
        "{'throat.diffusive_conductance': 'Healthy Vector'}\n",
        "standard_air_physics\n",
        "[  1.55542838e-08   1.58361654e-08   1.59291207e-08 ...,   1.33503230e-08\n",
        "   1.75889135e-08   1.37562121e-08]\n",
        "{'throat.occupancy': 'Healthy Vector'}\n",
        "{'throat.diffusive_conductance': 'Healthy Vector'}\n",
        "standard_air_physics\n",
        "[  1.55542838e-08   1.58361654e-08   1.59291207e-08 ...,   1.33503230e-08\n",
        "   1.75889135e-08   1.37562121e-08]\n",
        "{'throat.occupancy': 'Healthy Vector'}"
       ]
      },
      {
       "output_type": "stream",
       "stream": "stdout",
       "text": [
        "\n",
        "{'throat.diffusive_conductance': 'Healthy Vector'}\n",
        "standard_air_physics\n",
        "[  1.55542838e-08   1.58361654e-08   1.59291207e-08 ...,   1.33503230e-08\n",
        "   1.75889135e-08   1.37562121e-08]\n",
        "{'throat.occupancy': 'Healthy Vector'}\n",
        "{'throat.diffusive_conductance': 'Healthy Vector'}\n",
        "standard_air_physics\n",
        "[  1.55542838e-08   1.58361654e-08   1.59291207e-08 ...,   1.33503230e-08\n",
        "   1.75889135e-08   1.37562121e-08]\n",
        "{'throat.occupancy': 'Healthy Vector'}"
       ]
      },
      {
       "output_type": "stream",
       "stream": "stdout",
       "text": [
        "\n",
        "{'throat.diffusive_conductance': 'Healthy Vector'}\n",
        "standard_air_physics\n",
        "[  1.55542838e-08   1.58361654e-08   1.59291207e-08 ...,   1.33503230e-08\n",
        "   1.75889135e-08   1.37562121e-08]\n",
        "{'throat.occupancy': 'Healthy Vector'}"
       ]
      },
      {
       "output_type": "stream",
       "stream": "stdout",
       "text": [
        "\n",
        "{'throat.diffusive_conductance': 'Healthy Vector'}\n",
        "standard_air_physics\n",
        "[  1.55542838e-08   1.58361654e-08   1.59291207e-08 ...,   1.33503230e-08\n",
        "   1.75889135e-08   1.37562121e-08]\n",
        "{'throat.occupancy': 'Healthy Vector'}"
       ]
      },
      {
       "output_type": "stream",
       "stream": "stdout",
       "text": [
        "\n",
        "{'throat.diffusive_conductance': 'Healthy Vector'}\n",
        "standard_air_physics\n",
        "[  1.55542838e-08   1.58361654e-08   1.59291207e-08 ...,   1.33503230e-08\n",
        "   1.75889135e-08   1.37562121e-08]\n",
        "normal diffusivity (X, Y, Z directions) from bottom surface to top surface using old method:  [[ 0.68308466  0.          0.        ]\n",
        " [ 0.          0.668634    0.        ]\n",
        " [ 0.          0.          0.62973988]]"
       ]
      },
      {
       "output_type": "stream",
       "stream": "stdout",
       "text": [
        "\n",
        "normal diffusivity (X, Y, Z directions) from bottom surface to top surface using new method:  [ 0.68308466  0.668634    0.62973988]\n",
        "normal diffusivity from 1/4 up to 1/4 from the top using new method:  [ 0.66319947]\n"
       ]
      }
     ],
     "prompt_number": 2
    },
    {
     "cell_type": "code",
     "collapsed": false,
     "input": [
      "print(OP_1._pseq)\n",
      "print(min(water['pore.diffusivity']))\n",
      "print(min(air['pore.diffusivity']))\n",
      "print(np.sum( air['throat.occupancy']))\n",
      "print(pn.num_throats())\n",
      "print(air.get_throat_indices(labels='occupancy'))\n",
      "\n",
      "bob = air.get_throat_indices(labels='occupancy')\n",
      "pn['throat.diameter'][bob]"
     ],
     "language": "python",
     "metadata": {},
     "outputs": [
      {
       "output_type": "stream",
       "stream": "stdout",
       "text": [
        "47\n",
        "2e-09\n",
        "1.99282949245e-05\n",
        "71\n",
        "117\n",
        "[  0   2   4   7   8  15  16  17  18  19  20  22  23  25  27  28  29  30\n",
        "  32  34  35  36  38  39  41  42  45  46  48  49  50  51  52  53  54  55\n",
        "  56  57  60  61  62  64  65  67  72  74  75  77  79  81  82  83  84  85\n",
        "  86  88  92  93  96  97  98 100 103 105 106 109 110 111 112 114 115]\n"
       ]
      },
      {
       "metadata": {},
       "output_type": "pyout",
       "prompt_number": 7,
       "text": [
        "array([  1.06102104e-06,   4.66789449e-06,   8.66551817e-06,\n",
        "         5.06563470e-06,   3.70463181e-06,   5.33749400e-06,\n",
        "         2.05572248e-06,   4.21879698e-06,   2.41276438e-06,\n",
        "         3.07930499e-06,   6.53061524e-06,   1.37981366e-06,\n",
        "         7.97761600e-06,   9.48015198e-06,   1.02332114e-06,\n",
        "         9.17710269e-06,   2.29582514e-06,   4.56655362e-06,\n",
        "         4.25398770e-06,   5.24881736e-06,   9.99077282e-06,\n",
        "         1.18101803e-05,   3.78538051e-06,   5.58556102e-06,\n",
        "         3.33368506e-06,   6.96098720e-06,   9.67691879e-06,\n",
        "         2.55310146e-06,   1.06650357e-05,   1.00929090e-05,\n",
        "         7.11315854e-06,   1.34037126e-06,   2.92062540e-06,\n",
        "         1.49057639e-06,   6.36753281e-06,   1.25093633e-05,\n",
        "         1.11146189e-05,   4.99099308e-06,   9.21305639e-06,\n",
        "         6.87620957e-06,   5.91986904e-06,   4.80934953e-06,\n",
        "         4.33432594e-06,   3.70129649e-06,   9.38092962e-06,\n",
        "         1.18356909e-05,   1.22495744e-05,   9.10533253e-06,\n",
        "         2.70039262e-06,   9.25230854e-06,   1.01428394e-05,\n",
        "         6.97493738e-06,   3.44234904e-06,   7.50377998e-06,\n",
        "         1.35710273e-05,   5.63125184e-06,   3.38507245e-06,\n",
        "         3.82895881e-06,   1.07612229e-05,   2.51996217e-06,\n",
        "         1.52879558e-06,   6.08055683e-06,   1.15678250e-05,\n",
        "         1.01368202e-06,   2.12558026e-06,   1.20068005e-05,\n",
        "         5.10018020e-06,   5.77289312e-06,   4.68827967e-06,\n",
        "         9.03300780e-06,   7.85178424e-06])"
       ]
      }
     ],
     "prompt_number": 7
    },
    {
     "cell_type": "markdown",
     "metadata": {},
     "source": [
      "Progress #2) calc_internal_eff_prop now works with boundary = True.  The following shows effective_diffusivity/bulk_diffusivity being calculated if boundary = True.  \n",
      "\n",
      "Note: What is with the Z direction? it's so much smaller (even using their old method that i have not fiddled with)!  I get the same values when I use my new method (sending the \"top\" and \"bottom\" as boundaries).  I also get the weird Z value when I send the boundary pores as my boundary.  I get a more normal looking value when i send the first layer of pores as my boundary. "
     ]
    },
    {
     "cell_type": "heading",
     "level": 6,
     "metadata": {},
     "source": [
      "JH: I get an error with the two geometries on the pn.regenerate_geometries() step. Not sure what errors, or why it doesnt break everything."
     ]
    },
    {
     "cell_type": "code",
     "collapsed": false,
     "input": [
      "n = 8\n",
      "Lc = 25e-6\n",
      "pn = OpenPNM.Network.Cubic(name = 'Wu', loglevel = 30)\n",
      "\n",
      "pn.generate(divisions = [n,n,2*n], add_boundaries= True, lattice_spacing = [Lc], loglevel = 30)\n",
      "\n",
      "locations = pn.get_pore_indices()\n",
      "geo = OpenPNM.Geometry.GenericGeometry(name = 'wu_geometry', network = pn)\n",
      "geo.set_locations(pores = pn.pores('internal'), throats = 'all')\n",
      "boun = pn.add_geometry(subclass='Boundary',name='boun')\n",
      "boun.set_locations(pores=pn.pores('boundary'))\n",
      "\n",
      "low = 4e-6\n",
      "high = 6e-6\n",
      "\n",
      "geo.add_method(prop='pore_diameter',model='constant', value = 24e-6)\n",
      "geo.add_method(prop='pore_volume',model='sphere')\n",
      "geo.add_method(prop='throat_diameter', model='uniform_distribution', low = low, high = high)\n",
      "geo.add_method(prop='throat_length',model='straight')\n",
      "geo.add_method(prop='throat_volume',model='cylinder')\n",
      "\n",
      "pn.regenerate_geometries()\n",
      "\n",
      "air = OpenPNM.Fluids.Air(network = pn, name = 'air')\n",
      "water = OpenPNM.Fluids.Water(network = pn, name = 'water')\n",
      "pn.regenerate_fluids()\n",
      "\n",
      "phys_water = OpenPNM.Physics.GenericPhysics(network=pn,fluid=water, geometry = geo, name='standard_water_physics')\n",
      "phys_air = OpenPNM.Physics.GenericPhysics(network=pn,fluid=air, geometry = geo, name='standard_air_physics')\n",
      "\n",
      "phys_water.add_method(prop='capillary_pressure', model='purcell', r_toroid=1e-5)\n",
      "phys_water.add_method(prop='hydraulic_conductance',model='hagen_poiseuille')\n",
      "phys_water.add_method(prop='diffusive_conductance', model='bulk_diffusion', shape = 'circular')\n",
      "phys_air.add_method(prop='hydraulic_conductance',model='hagen_poiseuille')\n",
      "\n",
      "bulk_diffusion_wu(physics = phys_air, network = pn, fluid = air, geometry = geo, propname = 'diffusive_conductance')\n",
      "pn.regenerate_physics()\n",
      "\n",
      "inlets = pn.get_pore_indices(labels = ['bottom']) #in brackets so the whole bottom of the lattice is considered 1 pore\n",
      "outlets = pn.get_pore_indices(labels = ['top'])\n",
      "end_condition = 'breakthrough'\n",
      "\n",
      "OP_1 = OpenPNM.Algorithms.InvasionPercolation(network = pn, name = 'OP_1',loglevel=30)\n",
      "OP_1.run(invading_fluid = water, defending_fluid = air, inlets = inlets, outlets = outlets, end_condition = end_condition)\n",
      "OP_1.update()\n",
      "#OP_1.update(IPseq = 0)\n",
      "\n",
      "Fickian_alg = OpenPNM.Algorithms.FickianDiffusion(loggername = 'Fickian', name = 'fickian_alg', network = pn)\n",
      "\n",
      "effective_diffusivity_original = Fickian_alg.effective_diffusivity(fluid = air)\n",
      "\n",
      "\n",
      "front_boundary = pn.get_pore_indices(labels = 'front')\n",
      "back_boundary = pn.get_pore_indices(labels = 'back')\n",
      "effective_diffusivity_X = Fickian_alg.effective_diffusivity(fluid = air, boundary_1 = front_boundary, boundary_2 = back_boundary)\n",
      "\n",
      "left_boundary = pn.get_pore_indices(labels = 'left')\n",
      "right_boundary = pn.get_pore_indices(labels = 'right')\n",
      "effective_diffusivity_Y = Fickian_alg.effective_diffusivity(fluid = air, boundary_1 = left_boundary, boundary_2 = right_boundary)\n",
      "\n",
      "bottom_boundary = pn.get_pore_indices(labels = 'bottom')\n",
      "top_boundary = pn.get_pore_indices(labels = 'top')\n",
      "effective_diffusivity_Z = Fickian_alg.effective_diffusivity(fluid = air, boundary_1 = bottom_boundary, boundary_2 = top_boundary)\n",
      "\n",
      "A = pn._Nx**2\n",
      "\n",
      "z_dimension = int(pn.domain_size(dimension = 'height')/Lc) #number of pores in the z direction\n",
      "quarter_layer = z_dimension/4 #estimates which layer marks 1/4 up the lattice\n",
      "pore_number = int(quarter_layer*A) #gives the first pore in the layer 1/4 up the lattice\n",
      "\n",
      "bottom_boundary = list(range(1536, 1600))\n",
      "top_boundary = list(range(960, 1024))\n",
      "effective_diffusivity_Z_mod = Fickian_alg.effective_diffusivity(fluid = air, boundary_1 = bottom_boundary, boundary_2 = top_boundary)\n",
      "\n",
      "bottom_boundary = list(range(0, 64))\n",
      "top_boundary = list(range(960, 1024))\n",
      "effective_diffusivity_Z_mod_2 = Fickian_alg.effective_diffusivity(fluid = air, boundary_1 = bottom_boundary, boundary_2 = top_boundary)\n",
      "\n",
      "bulk_diffusivity = air.get_pore_data(prop = 'diffusivity')\n",
      "normal_diffusivity_original = effective_diffusivity_original/bulk_diffusivity\n",
      "print(\"normal diffusivity (X, Y, Z directions) from bottom surface to top surface using old method: \", normal_diffusivity_original)\n",
      "\n",
      "effective_diffusivity = [effective_diffusivity_X, effective_diffusivity_Y, effective_diffusivity_Z]\n",
      "normal_diffusivity = effective_diffusivity/bulk_diffusivity\n",
      "print(\"normal diffusivity (X, Y, Z directions) from bottom surface to top surface using new method: \", normal_diffusivity)\n",
      "\n",
      "normal_diffusivity_mod = effective_diffusivity_Z_mod/bulk_diffusivity\n",
      "print(\"normal diffusivity using bottom boundary to first layer using new method: \", normal_diffusivity_mod)\n",
      "\n",
      "normal_diffusivity_mod = effective_diffusivity_Z_mod_2/bulk_diffusivity\n",
      "print(\"normal diffusivity using first layer to second layer using new method: \", normal_diffusivity_mod)\n",
      "\n",
      "\n",
      "vis = OpenPNM.Visualization.VTK()\n",
      "vis.write(filename = 'test.vtp', network=pn,fluids=[air,water])"
     ],
     "language": "python",
     "metadata": {},
     "outputs": [
      {
       "output_type": "stream",
       "stream": "stderr",
       "text": [
        "ERROR:Cubic:Cannot create a label or property of the wrong length\n"
       ]
      },
      {
       "output_type": "stream",
       "stream": "stdout",
       "text": [
        "     IP algorithm at 0 % completion at 6 seconds\n",
        "     IP algorithm at 60 % completion at 6 seconds\n",
        "     IP algorithm at"
       ]
      },
      {
       "output_type": "stream",
       "stream": "stdout",
       "text": [
        " 80 % completion at 7 seconds\n",
        "     IP algorithm at 100% completion at "
       ]
      },
      {
       "output_type": "stream",
       "stream": "stdout",
       "text": [
        " 7  seconds\n",
        "{'throat.occupancy': 'Healthy Vector'}\n",
        "{'throat.diffusive_conductance': 'Healthy Vector'}\n",
        "{'throat.occupancy': 'Healthy Vector'}\n",
        "{'throat.diffusive_conductance': 'Healthy Vector'}\n",
        "{'throat.occupancy': 'Healthy Vector'}"
       ]
      },
      {
       "output_type": "stream",
       "stream": "stdout",
       "text": [
        "\n",
        "{'throat.diffusive_conductance': 'Healthy Vector'}\n",
        "{'throat.occupancy': 'Healthy Vector'}\n",
        "{'throat.diffusive_conductance': 'Healthy Vector'}\n",
        "{'throat.occupancy': 'Healthy Vector'}"
       ]
      },
      {
       "output_type": "stream",
       "stream": "stdout",
       "text": [
        "\n",
        "{'throat.diffusive_conductance': 'Healthy Vector'}\n",
        "{'throat.occupancy': 'Healthy Vector'}"
       ]
      },
      {
       "output_type": "stream",
       "stream": "stdout",
       "text": [
        "\n",
        "{'throat.diffusive_conductance': 'Healthy Vector'}\n",
        "{'throat.occupancy': 'Healthy Vector'}\n",
        "{'throat.diffusive_conductance': 'Healthy Vector'}\n",
        "{'throat.occupancy': 'Healthy Vector'}"
       ]
      },
      {
       "output_type": "stream",
       "stream": "stdout",
       "text": [
        "\n",
        "{'throat.diffusive_conductance': 'Healthy Vector'}\n",
        "normal diffusivity (X, Y, Z directions) from bottom surface to top surface using old method:  [[ 0.05026694  0.          0.        ]\n",
        " [ 0.          0.05015675  0.        ]\n",
        " [ 0.          0.          0.00198918]]\n",
        "normal diffusivity (X, Y, Z directions) from bottom surface to top surface using new method:  [ 0.06561291  0.06540986  0.00254572]\n",
        "normal diffusivity using bottom boundary to first layer using new method:  [ 0.00254829]\n",
        "normal diffusivity using first layer to second layer using new method:  [ 0.06318936]\n"
       ]
      },
      {
       "output_type": "stream",
       "stream": "stderr",
       "text": [
        ".\\OpenPNM\\Physics\\hydraulic_conductance.py:60: RuntimeWarning: invalid value encountered in true_divide\n",
        "  gp2 = 2.28*(pdia[pores[:,1]]/2)**4/(pdia[pores[:,1]]*mut)\n",
        ".\\OpenPNM\\Physics\\hydraulic_conductance.py:61: RuntimeWarning: invalid value encountered in greater\n",
        "  gp2[~(gp2>0)] = sp.inf #Set 0 conductance pores (boundaries) to inf\n",
        ".\\OpenPNM\\Physics\\diffusive_conductance.py:73: RuntimeWarning: invalid value encountered in true_divide\n",
        "  gp2 = ct*DABt*pdia[Ps[:,1]]**2/(0.5*pdia[Ps[:,1]])\n",
        ".\\OpenPNM\\Physics\\diffusive_conductance.py:74: RuntimeWarning: invalid value encountered in greater\n",
        "  gp2[~(gp2>0)] = sp.inf #Set 0 conductance pores (boundaries) to inf\n"
       ]
      }
     ],
     "prompt_number": 3
    },
    {
     "cell_type": "code",
     "collapsed": false,
     "input": [
      "pn."
     ],
     "language": "python",
     "metadata": {},
     "outputs": []
    },
    {
     "cell_type": "heading",
     "level": 2,
     "metadata": {},
     "source": [
      "Non-flat boundaries "
     ]
    },
    {
     "cell_type": "markdown",
     "metadata": {},
     "source": [
      "To see if my new code finds the correct neighboring pores and connecting throats, i'm going to use the following non-uniform boundary.  "
     ]
    },
    {
     "cell_type": "code",
     "collapsed": false,
     "input": [
      "from IPython.display import display\n",
      "from IPython.display import Image\n",
      "\n",
      "i = Image(url = 'http://i.imgur.com/2w5lIvs.png')\n",
      "display(i)\n",
      "\n",
      "g = Image(url = 'http://i.imgur.com/A5V059l.png')\n",
      "display(g)"
     ],
     "language": "python",
     "metadata": {},
     "outputs": [
      {
       "html": [
        "<img src=\"http://i.imgur.com/2w5lIvs.png\"/>"
       ],
       "metadata": {},
       "output_type": "display_data",
       "text": [
        "<IPython.core.display.Image at 0x7dc1128>"
       ]
      },
      {
       "html": [
        "<img src=\"http://i.imgur.com/A5V059l.png\"/>"
       ],
       "metadata": {},
       "output_type": "display_data",
       "text": [
        "<IPython.core.display.Image at 0x7dc10b8>"
       ]
      }
     ],
     "prompt_number": 21
    },
    {
     "cell_type": "markdown",
     "metadata": {},
     "source": [
      "Here's what happens when we run the code where these are the boundaries.  L has been fixed so that it is the distance between the average z-coordinates of plane 1 vs plane 2.  I've also checked that fn is in fact the correct layer of pores"
     ]
    },
    {
     "cell_type": "code",
     "collapsed": false,
     "input": [
      "n = 8\n",
      "Lc = 25e-6\n",
      "pn = OpenPNM.Network.Cubic(name = 'Wu', loglevel = 30)\n",
      "\n",
      "pn.generate(divisions = [n,n,2*n], add_boundaries= True, lattice_spacing = [Lc], loglevel = 30)\n",
      "\n",
      "locations = pn.get_pore_indices()\n",
      "geo = OpenPNM.Geometry.GenericGeometry(name = 'wu_geometry', network = pn)\n",
      "geo.set_locations(pores = pn.pores('internal'), throats = 'all')\n",
      "boun = pn.add_geometry(subclass='Boundary',name='boun')\n",
      "boun.set_locations(pores=pn.pores('boundary'))\n",
      "\n",
      "low = 4e-6\n",
      "high = 6e-6\n",
      "\n",
      "geo.add_method(prop='pore_diameter',model='constant', value = 24e-6)\n",
      "geo.add_method(prop='pore_volume',model='sphere')\n",
      "geo.add_method(prop='throat_diameter', model='uniform_distribution', low = low, high = high)\n",
      "geo.add_method(prop='throat_length',model='straight')\n",
      "geo.add_method(prop='throat_volume',model='cylinder')\n",
      "\n",
      "pn.regenerate_geometries()\n",
      "\n",
      "air = OpenPNM.Fluids.Air(network = pn, name = 'air')\n",
      "water = OpenPNM.Fluids.Water(network = pn, name = 'water')\n",
      "pn.regenerate_fluids()\n",
      "\n",
      "phys_water = OpenPNM.Physics.GenericPhysics(network=pn,fluid=water, geometry = geo, name='standard_water_physics')\n",
      "phys_air = OpenPNM.Physics.GenericPhysics(network=pn,fluid=air, geometry = geo, name='standard_air_physics')\n",
      "\n",
      "phys_water.add_method(prop='capillary_pressure', model='purcell', r_toroid=1e-5)\n",
      "phys_water.add_method(prop='hydraulic_conductance',model='hagen_poiseuille')\n",
      "phys_water.add_method(prop='diffusive_conductance', model='bulk_diffusion', shape = 'circular')\n",
      "phys_air.add_method(prop='hydraulic_conductance',model='hagen_poiseuille')\n",
      "\n",
      "bulk_diffusion_wu(physics = phys_air, network = pn, fluid = air, geometry = geo, propname = 'diffusive_conductance')\n",
      "pn.regenerate_physics()\n",
      "\n",
      "inlets = pn.get_pore_indices(labels = ['bottom']) #in brackets so the whole bottom of the lattice is considered 1 pore\n",
      "outlets = pn.get_pore_indices(labels = ['top'])\n",
      "end_condition = 'breakthrough'\n",
      "\n",
      "OP_1 = OpenPNM.Algorithms.InvasionPercolation(network = pn, name = 'OP_1',loglevel=30)\n",
      "OP_1.run(invading_fluid = water, defending_fluid = air, inlets = inlets, outlets = outlets, end_condition = end_condition)\n",
      "OP_1.update()\n",
      "#OP_1.update(IPseq = 0)\n",
      "\n",
      "Fickian_alg = OpenPNM.Algorithms.FickianDiffusion(loggername = 'Fickian', name = 'fickian_alg', network = pn)\n",
      "\n",
      "#creating pore boundary that isn't flat\n",
      "list1 = list(range(0, 8))\n",
      "list2 = list(range(8+64, 16+64))\n",
      "list3 = list(range(16+128, 24+128))\n",
      "list4 = list(range(24+64, 32+64))\n",
      "list5 = list(range(32, 40))\n",
      "list6 = list(range(40+64, 48+64))\n",
      "list7 = list(range(48+128, 56+128))\n",
      "list8 = list(range(56+64, 64+64))\n",
      "\n",
      "combined_list = list1 + list2 + list3 + list4 + list5 + list6 + list7 + list8 \n",
      "face_1_pores = [x+128 for x in combined_list]\n",
      "face_2_pores = [x+384 for x in face_1_pores]\n",
      "\n",
      "pn.set_info(pores = face_1_pores, label = 'boundary_3')\n",
      "pn.set_info(pores = face_2_pores, label = 'boundary_4')\n",
      "\n",
      "effective_diffusivity_Z = Fickian_alg.effective_diffusivity(fluid = air, boundary_1 = face_1_pores, boundary_2 = face_2_pores)\n",
      "bulk_diffusivity = air.get_pore_data(prop = 'diffusivity')\n",
      "normal_diffusivity = effective_diffusivity_Z/bulk_diffusivity\n",
      "print(normal_diffusivity)\n",
      "\n",
      "\n",
      "vis = OpenPNM.Visualization.VTK()\n",
      "vis.write(filename = 'test.vtp', network=pn,fluids=[air,water])"
     ],
     "language": "python",
     "metadata": {},
     "outputs": [
      {
       "output_type": "stream",
       "stream": "stderr",
       "text": [
        "ERROR:Cubic:Cannot create a label or property of the wrong length\n"
       ]
      },
      {
       "output_type": "stream",
       "stream": "stdout",
       "text": [
        "     IP algorithm at 0 % completion at 3109 seconds\n",
        "     IP algorithm at 60 % completion at 3109 seconds\n",
        "     IP algorithm at"
       ]
      },
      {
       "output_type": "stream",
       "stream": "stdout",
       "text": [
        " 80 % completion at 3110 seconds\n",
        "     IP algorithm at 100% completion at "
       ]
      },
      {
       "output_type": "stream",
       "stream": "stdout",
       "text": [
        " 3110  seconds\n",
        "{'throat.occupancy': 'Healthy Vector'}\n",
        "{'throat.diffusive_conductance': 'Healthy Vector'}\n",
        "[ 0.08765206]"
       ]
      },
      {
       "output_type": "stream",
       "stream": "stdout",
       "text": [
        "\n"
       ]
      }
     ],
     "prompt_number": 27
    },
    {
     "cell_type": "markdown",
     "metadata": {},
     "source": [
      "Follow-up questions:\n",
      "\n",
      "1) will total flow from a non-flat boundary to a parrallel boundary be different than from a flat boundary to a parrallel flat boundary? (this seems unlikely to me.  question reworded- when will anyone want to put in a non-uniform boundary?)\n",
      "\n",
      "2) What's with the differences in flow from the boundary to the first layer versus from the first layer to the second layer?\n",
      "\n",
      "4) How do i get matplotlib to work in IPYthon now that i'm using python3.4?  I tried to use the stackflow link... didn't work...  I must be missing something simple"
     ]
    },
    {
     "cell_type": "markdown",
     "metadata": {},
     "source": [
      "JH:\n",
      "\n",
      "1) total flow entering any fully spanning sheet of pores should be the same.\n",
      "\n",
      "2) same answer as 1)\n",
      "\n",
      "4?) Do your best to get matplotlib to work in python3.\n"
     ]
    },
    {
     "cell_type": "code",
     "collapsed": false,
     "input": [],
     "language": "python",
     "metadata": {},
     "outputs": []
    }
   ],
   "metadata": {}
  }
 ]
}